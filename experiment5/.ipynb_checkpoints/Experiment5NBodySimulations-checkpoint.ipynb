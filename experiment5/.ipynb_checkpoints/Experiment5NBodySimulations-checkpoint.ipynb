{
 "cells": [
  {
   "cell_type": "markdown",
   "id": "ce9e4bda",
   "metadata": {},
   "source": [
    "# Computational Experiment 5: N-Body Simulations\n",
    "\n",
    "In this experiment, you will run N-body simulations of a variety of systems to see how they evolve.\n",
    "\n",
    "Before you begin, **make sure to read through the full notebook and understand what each function does**. Pay special attention to anything that has a **FIXME** note, which you will need to edit.\n",
    "\n",
    "In this notebook, we will be making movies but saving them as external .mp4 files instead of embedding them in the notebook."
   ]
  },
  {
   "cell_type": "markdown",
   "id": "4bc31e32",
   "metadata": {},
   "source": [
    "## 0. Import packages"
   ]
  },
  {
   "cell_type": "code",
   "execution_count": null,
   "id": "bbf7287b",
   "metadata": {},
   "outputs": [],
   "source": [
    "from gravhopper import Simulation, IC\n",
    "from astropy import units as u, constants as const\n",
    "import numpy as np\n",
    "import matplotlib.pyplot as plt\n",
    "from matplotlib.animation import FuncAnimation\n",
    "import pynbody.analysis.profile as profile\n",
    "\n",
    "import galpy.util\n",
    "galpy.util.__config__.set('astropy', 'astropy-units', 'True')\n",
    "from galpy import potential, df"
   ]
  },
  {
   "cell_type": "markdown",
   "id": "60677f7d",
   "metadata": {},
   "source": [
    "You will need to download [GravHopper](https://github.com/jbailinua/gravhopper)."
   ]
  },
  {
   "cell_type": "markdown",
   "id": "c1d4e73c",
   "metadata": {},
   "source": [
    "## 1. Earth-Sun System"
   ]
  },
  {
   "cell_type": "markdown",
   "id": "c75784da",
   "metadata": {},
   "source": [
    "We will begin with a simple $N=2$ system so you can see how the package works: the Earth orbiting the Sun. First we need to set up the initial conditions (ICs) of the simulation: the Sun will be at the origin, and the Earth will be 1 au away on a circular orbit."
   ]
  },
  {
   "cell_type": "code",
   "execution_count": null,
   "id": "9630f7ee",
   "metadata": {},
   "outputs": [],
   "source": [
    "# Sun at origin with zero velocity and mass 1 Msun\n",
    "Sun = {'pos':np.array([0, 0, 0])*u.AU,\n",
    "       'vel':np.array([0, 0, 0])*u.km/u.s,\n",
    "       'mass':np.array([1])*u.Msun}\n",
    "# Earth is at x=1 au, v_y=29.8 km/s and mass 1 Mearth\n",
    "Earth = {'pos':np.array([1, 0, 0])*u.AU,\n",
    "         'vel':np.array([0, 29.8, 0])*u.km/u.s,\n",
    "         'mass':np.array([1])*u.Mearth}"
   ]
  },
  {
   "cell_type": "markdown",
   "id": "52bbdc45",
   "metadata": {},
   "source": [
    "To set up a simulation, we need to give two important parameters:\n",
    "1. Time step $dt$, which defines how long between simulation steps.\n",
    "2. The softening length $\\epsilon$, which ensures that the force doesn't diverge when particles get too close. This is important when the particles represent samples of a smooth density field, as we'll get to later, but in this case each particle really represents a distinct object, so we don't want any softening and should set this to a very small number (for numerical reasons it's best if this isn't literally zero)."
   ]
  },
  {
   "cell_type": "code",
   "execution_count": null,
   "id": "7decedb2",
   "metadata": {},
   "outputs": [],
   "source": [
    "# Set up a Simulation with a time step of 1/20th of a year, a very small softening\n",
    "sim = Simulation(dt=0.05*u.yr, eps=0.001*u.au)"
   ]
  },
  {
   "cell_type": "markdown",
   "id": "ae648965",
   "metadata": {},
   "source": [
    "And then we add the two bodies to the ICs."
   ]
  },
  {
   "cell_type": "code",
   "execution_count": null,
   "id": "ee6a07cc",
   "metadata": {},
   "outputs": [],
   "source": [
    "sim.add_IC(Sun)\n",
    "sim.add_IC(Earth)"
   ]
  },
  {
   "cell_type": "markdown",
   "id": "43f6c5ca",
   "metadata": {},
   "source": [
    "Finally we run the simulation for 21 time steps. Each step is 1/20th of a year, so this will give us one full Earth orbit."
   ]
  },
  {
   "cell_type": "code",
   "execution_count": null,
   "id": "fe74d202",
   "metadata": {},
   "outputs": [],
   "source": [
    "sim.run(21)"
   ]
  },
  {
   "cell_type": "markdown",
   "id": "873dd117",
   "metadata": {},
   "source": [
    "After running, you can access the full position and velocity history using ``sim.positions`` and ``sim.velocities``. Each of these is a (Nsnap, Np, 3) array: the first dimension refers to the snapshot number, the second dimension refers to the particle number, and the third dimension refers to the coordinate (0=x, 1=y, 2=z). You can put specific numbers in for each of these, or use ``:`` to get them all.\n",
    "\n",
    "For example, if you want to find the y velocities of all particles at snapshot number 5:\n",
    "```\n",
    "sim.velocities[5,:,1]\n",
    "```\n",
    "or if you wanted to know the 3D position of particle number 0 at the end (remember that you can use ``-1`` to get the last element):\n",
    "```\n",
    "sim.positions[-1,0,:]\n",
    "```\n",
    "or if you wanted to know the x positions of particle number 25 at all snapshots:\n",
    "```\n",
    "sim.positions[:,25,0]\n",
    "```\n",
    "\n",
    "So the following code will plot the x-y positions of each body over all snapshots."
   ]
  },
  {
   "cell_type": "code",
   "execution_count": null,
   "id": "a51bbc1b",
   "metadata": {},
   "outputs": [],
   "source": [
    "# Make a plot that has an aspect ratio of 1, i.e. it will be square if the axes have the same size.\n",
    "plt.subplot(111, aspect=1.0)\n",
    "# Plot x vs. y of particle 0 (Sun) in units of AU (default is kpc, which will look very strange!)\n",
    "plt.plot(sim.positions[:,0,0].to(u.au), sim.positions[:,0,1].to(u.au), 'o', color='yellow')\n",
    "# Plot x vs. y of particle 1 (Earth) as above\n",
    "plt.plot(sim.positions[:,1,0].to(u.au), sim.positions[:,1,1].to(u.au), color='blue')\n",
    "plt.xlabel('x (au)')\n",
    "plt.ylabel('y (au)')"
   ]
  },
  {
   "cell_type": "markdown",
   "id": "79eb968f",
   "metadata": {},
   "source": [
    "Look at it! Does it look like you'd expect?"
   ]
  },
  {
   "cell_type": "markdown",
   "id": "1c399adf",
   "metadata": {},
   "source": [
    "Let's check out the Sun's velocity in one dimension, say $x$. You can access the time of each simulation snapshot using ``sim.times``."
   ]
  },
  {
   "cell_type": "code",
   "execution_count": null,
   "id": "eedbee54",
   "metadata": {},
   "outputs": [],
   "source": [
    "# Plot Sun's reflex motion vs. time (in years)\n",
    "plt.plot(sim.times.to(u.yr), sim.velocities[:,0,0].to(u.m/u.s))\n",
    "plt.xlabel('t (yr)')\n",
    "plt.ylabel('$v_x$ (m/s)')"
   ]
  },
  {
   "cell_type": "markdown",
   "id": "75d464c4",
   "metadata": {},
   "source": [
    "What do you think about this?\n",
    "\n",
    "**FIXME:** Try changing the mass of the Earth. You will need to recreate the Simulation object each time -- there is a ``sim.reset()`` function, which will wipe out the run but it will leave the ICs and any external forces (see later), so if you want to completely change the ICs it's easiest to just create a new Simulation object by going back to the ``sim = Simulation(...`` line.\n",
    "\n",
    "The first exoplanet-detecting spectrographs had a spectral resolution equivalent to 1 m/s. How massive does the Earth-like planet need to be to be detectable with those instruments around a nearby star, i.e. to cause a reflex motion of 1 m/s? Do you get the same answer from analytic arguments?"
   ]
  },
  {
   "cell_type": "markdown",
   "id": "c7c540ff",
   "metadata": {},
   "source": [
    "**FIXME**: Reset the mass of the Earth, but change the timestep ``dt`` and run the simulation for a few orbits (you will need to adjust the number of steps to be appropriate). What happens when ``dt`` is small? What happens when ``dt`` is large? How large can you make it before it starts messing up the orbit? Why?"
   ]
  },
  {
   "cell_type": "markdown",
   "id": "11f010ad",
   "metadata": {},
   "source": [
    "## 2. Effects of orbital eccentricity\n",
    "\n",
    "Let's try to make this a bit more realistic. You can use [this list of planetary data](https://nssdc.gsfc.nasa.gov/planetary/factsheet/) to look up the masses and orbital properties of some important Solar System bodies.\n",
    "\n",
    "It's relatively easy to set up a planet at either aphelion or perihelion using this data: the \"Orbital Velocity\" and \"Distance from Sun\" rows are both averages, and conservation of angular momentum tells you that $v \\propto 1/r$ throughout the orbit. For example, instead of the Earth shown above, this line will set up the Earth to be at perihelion along the x axis:"
   ]
  },
  {
   "cell_type": "code",
   "execution_count": null,
   "id": "2a132ad2",
   "metadata": {},
   "outputs": [],
   "source": [
    "#Make this the appropriate value in km/s but do not put the astropy unit in -- that will be done below.\n",
    "v_Earth_at_peri = 29.8 * 149.6/147.1\n",
    "\n",
    "Earth = {'pos':np.array([147.1e6, 0, 0])*u.km,\n",
    "         'vel':np.array([0, v_Earth_at_peri, 0])*u.km/u.s,\n",
    "         'mass':np.array([1])*u.Mearth}"
   ]
  },
  {
   "cell_type": "markdown",
   "id": "1de529e6",
   "metadata": {},
   "source": [
    "Let's do the simulation again and see if accounting for orbital eccentricity makes a difference."
   ]
  },
  {
   "cell_type": "code",
   "execution_count": null,
   "id": "68f488b4",
   "metadata": {},
   "outputs": [],
   "source": [
    "# Set up a Simulation with a time step of 1/20th of a year, a very small softening\n",
    "sim_e = Simulation(dt=0.05*u.yr, eps=0.001*u.au)\n",
    "sim_e.add_IC(Sun)\n",
    "sim_e.add_IC(Earth)\n",
    "sim_e.run(21)"
   ]
  },
  {
   "cell_type": "code",
   "execution_count": null,
   "id": "f68f86df",
   "metadata": {},
   "outputs": [],
   "source": [
    "# Make a plot that has an aspect ratio of 1, i.e. it will be square if the axes have the same size.\n",
    "plt.subplot(111, aspect=1.0)\n",
    "# Plot x vs. y of particle 0 (Sun) in units of AU\n",
    "plt.plot(sim.positions[:,0,0].to(u.au), sim.positions[:,0,1].to(u.au), 'o', color='yellow')\n",
    "# Plot x vs. y of circular Earth\n",
    "plt.plot(sim.positions[:,1,0].to(u.au), sim.positions[:,1,1].to(u.au), color='blue', label='Circular')\n",
    "# Plot x vs. y of eccentric Earth\n",
    "plt.plot(sim_e.positions[:,1,0].to(u.au), sim_e.positions[:,1,1].to(u.au), color='darkcyan', label='Eccentric')\n",
    "plt.xlabel('x (au)')\n",
    "plt.ylabel('y (au)')\n",
    "plt.legend()"
   ]
  },
  {
   "cell_type": "code",
   "execution_count": null,
   "id": "821e6191",
   "metadata": {},
   "outputs": [],
   "source": [
    "# Plot Sun's reflex motion vs. time (in years)\n",
    "plt.plot(sim.times.to(u.yr), sim.velocities[:,0,0].to(u.m/u.s), color='blue', label='Circular')\n",
    "plt.plot(sim_e.times.to(u.yr), sim_e.velocities[:,0,0].to(u.m/u.s), color='darkcyan', label='Eccentric')\n",
    "plt.xlabel('t (yr)')\n",
    "plt.ylabel('$v_x$ (m/s)')\n",
    "plt.legend()"
   ]
  },
  {
   "cell_type": "markdown",
   "id": "bd3ae2d7",
   "metadata": {},
   "source": [
    "What do you think about these plots?\n",
    "\n",
    "**FIXME:** Try changing the orbital eccentricity of the Earth, keeping everything else the same. How eccentric does it need to be to make a measurable difference? How do radial velocity curves for stars with eccentric planets differ?"
   ]
  },
  {
   "cell_type": "markdown",
   "id": "10cd1515",
   "metadata": {},
   "source": [
    "## 3. Add more planets\n",
    "\n",
    "**FIXME:** Using the orbital data from the NSSDC website, create a simulation that has Venus, Earth, Jupiter, and Saturn. Make sure to choose an appropriate value for both ``dt`` that is small enough to accurately integrate the fastest planet, and enough time steps to do at least one full orbit of the slowest planet. Set some of them at perihelion and some at aphelion. Also, don't line them all up on the same axis -- put at least a couple of them at different points in the orbit."
   ]
  },
  {
   "cell_type": "code",
   "execution_count": null,
   "id": "bfc9183e",
   "metadata": {},
   "outputs": [],
   "source": [
    "Venus = #FIXME\n",
    "Earth = #FIXME\n",
    "Jupiter = #FIXME\n",
    "Saturn = #FIXME"
   ]
  },
  {
   "cell_type": "code",
   "execution_count": null,
   "id": "251e7794",
   "metadata": {},
   "outputs": [],
   "source": [
    "sim_SS = Simulation(#FIXME\n",
    "sim_SS.add_IC(#FIXME\n",
    "#...more add_IC lines...\n",
    "sim_SS.run(#FIXME"
   ]
  },
  {
   "cell_type": "markdown",
   "id": "d57067a8",
   "metadata": {},
   "source": [
    "Plot the planet orbits."
   ]
  },
  {
   "cell_type": "code",
   "execution_count": null,
   "id": "809ba650",
   "metadata": {},
   "outputs": [],
   "source": [
    "fig = plt.figure(figsize=(10,10))\n",
    "ax = fig.add_subplot(111, aspect=1.0)\n",
    "ax.plot(sim_SS.positions[:,0,0].to(u.au), sim_SS.positions[:,0,1].to(u.au), 'o', color='yellow')\n",
    "for i in range(1,5):\n",
    "    ax.plot(sim_SS.positions[:,i,0].to(u.au), sim_SS.positions[:,i,1].to(u.au))"
   ]
  },
  {
   "cell_type": "markdown",
   "id": "81612574",
   "metadata": {},
   "source": [
    "What do you think?\n",
    "\n",
    "We can make a movie of the simulation using the ``movie_particles()`` function. It will write the output to an .mp4 file (you need to give it a filename). The other most useful parameters are the unit of the x and y axes, and the x and y limits of the plots that make up the movie. If you want to do a more complicated movie, you can follow the examples later on or look at the GravHopper source code of this function."
   ]
  },
  {
   "cell_type": "code",
   "execution_count": null,
   "id": "2debfd5a",
   "metadata": {},
   "outputs": [],
   "source": [
    "# The title bar will show a timeline, but by default it is in Myr, which isn't very useful for this case.\n",
    "# So first let's change the sim_SS.times array to be in units of years.\n",
    "sim_SS.times = sim_SS.times.to(u.yr)\n",
    "# Then make the movie, with axes in units of AU, going out to 12 AU in each direction, and points that are not too small.\n",
    "sim_SS.movie_particles('SS.mp4', unit=u.au, xlim=[-12,12], ylim=[-12,12], s=8)"
   ]
  },
  {
   "cell_type": "markdown",
   "id": "48e9fc6a",
   "metadata": {},
   "source": [
    "What do you think of this movie?\n",
    "\n",
    "Now let's look at the Solar reflex motion again."
   ]
  },
  {
   "cell_type": "code",
   "execution_count": null,
   "id": "a4f4282b",
   "metadata": {},
   "outputs": [],
   "source": [
    "# Plot Sun's reflex motion vs. time (in years)\n",
    "plt.plot(sim_SS.times.to(u.yr), sim_SS.velocities[:,0,0].to(u.m/u.s))\n",
    "plt.xlabel('t (yr)')\n",
    "plt.ylabel('$v_x$ (m/s)')"
   ]
  },
  {
   "cell_type": "markdown",
   "id": "709e8a0e",
   "metadata": {},
   "source": [
    "**FIXME:** Use ``plt.xlim()`` and ``plt.ylim`` to zoom in on diffent parts of the plot (or you can run this all with ``%matplotlib notebook`` so you can zoom in interactively). Can you identify oscillations caused by each of the planets?"
   ]
  },
  {
   "cell_type": "markdown",
   "id": "cab74e30",
   "metadata": {},
   "source": [
    "## 4. Do something interesting\n",
    "\n",
    "Alter one of the above simulations in some interesting way to explore solar system-type dynamics. For example, you could:\n",
    " - Add one or more moons.\n",
    " - Make planets massive enough and/or nearby enough to each other that they interact with each other.\n",
    " - Throw a planet at the Sun.\n",
    " - Simulate a real exoplanet system.\n",
    " - Set up an unstable 3-body system."
   ]
  },
  {
   "cell_type": "markdown",
   "id": "8c3340e2",
   "metadata": {},
   "source": [
    "## 5. Plummer sphere\n",
    "\n",
    "Now let's set up a system with lots of particles! The simplest system we can imagine is the ergodic Plummer sphere we derived in class."
   ]
  },
  {
   "cell_type": "code",
   "execution_count": null,
   "id": "5b39796b",
   "metadata": {},
   "outputs": [],
   "source": [
    "# Create ICs for a Plummer sphere with characteristic scale 1pc, mass 1e6 Msun, sampled with 5000 particles\n",
    "Plummer_IC = IC.Plummer(b=1*u.pc, totmass=1e6*u.Msun, N=5000)"
   ]
  },
  {
   "cell_type": "code",
   "execution_count": null,
   "id": "1dfc1258",
   "metadata": {},
   "outputs": [],
   "source": [
    "# Create a simulation with timesteps of 0.005 Myr and softening of 0.05 pc\n",
    "sim_P = Simulation(dt=0.005*u.Myr, eps=0.05*u.pc)\n",
    "# Add the Plummer ICs\n",
    "sim_P.add_IC(Plummer_IC)"
   ]
  },
  {
   "cell_type": "code",
   "execution_count": null,
   "id": "5a0df611",
   "metadata": {},
   "outputs": [],
   "source": [
    "# Run for 500 time steps\n",
    "sim_P.run(500)"
   ]
  },
  {
   "cell_type": "markdown",
   "id": "4657e34e",
   "metadata": {},
   "source": [
    "We can plot the particle distribution projected along different axes using the ``plot_particles()`` method. We'll start by looking at the initial particle positions (``snap='IC'``):"
   ]
  },
  {
   "cell_type": "code",
   "execution_count": null,
   "id": "0d4e2a97",
   "metadata": {},
   "outputs": [],
   "source": [
    "fig = plt.figure(figsize=(8,9))\n",
    "ax1 = fig.add_subplot(221, aspect=1.0)\n",
    "ax2 = fig.add_subplot(222, aspect=1.0)\n",
    "ax3 = fig.add_subplot(223, aspect=1.0)\n",
    "\n",
    "# Plot the x-y projection of positions onto axis ax1 in units of pc with limits +/-5\n",
    "sim_P.plot_particles(snap='IC', parm='pos', coords='xy',  unit=u.pc, xlim=[-5,5], ylim=[-5,5], ax=ax1)\n",
    "# ...and the other projections\n",
    "sim_P.plot_particles(snap='IC', parm='pos', coords='zy', unit=u.pc, xlim=[-5,5], ylim=[-5,5], ax=ax2)\n",
    "sim_P.plot_particles(snap='IC', parm='pos', coords='xz', unit=u.pc, xlim=[-5,5], ylim=[-5,5], ax=ax3)"
   ]
  },
  {
   "cell_type": "markdown",
   "id": "0a4c8430",
   "metadata": {},
   "source": [
    "We can compare this to the final snapshot by specifying ``snap='final'``. Other options are a specific snapshot number."
   ]
  },
  {
   "cell_type": "code",
   "execution_count": null,
   "id": "2adceba4",
   "metadata": {},
   "outputs": [],
   "source": [
    "fig = plt.figure(figsize=(8,9))\n",
    "ax1 = fig.add_subplot(221, aspect=1.0)\n",
    "ax2 = fig.add_subplot(222, aspect=1.0)\n",
    "ax3 = fig.add_subplot(223, aspect=1.0)\n",
    "\n",
    "sim_P.plot_particles(snap='final', parm='pos', coords='xy',  unit=u.pc, xlim=[-5,5], ylim=[-5,5], ax=ax1)\n",
    "sim_P.plot_particles(snap='final', parm='pos', coords='zy', unit=u.pc, xlim=[-5,5], ylim=[-5,5], ax=ax2)\n",
    "sim_P.plot_particles(snap='final', parm='pos', coords='xz', unit=u.pc, xlim=[-5,5], ylim=[-5,5], ax=ax3)"
   ]
  },
  {
   "cell_type": "markdown",
   "id": "9a126f36",
   "metadata": {},
   "source": [
    "Look at these! Does the distribution appear to be in equilibrium?\n",
    "\n",
    "We can examine other aspects of the simulation too, such as the velocities.\n",
    "**FIXME:** Use ``parm='vel'`` to compare the initial and final velocity ellipsoid (note: you should probably eliminate or change the ``xlim`` and ``ylim`` parameters. What do you think?"
   ]
  },
  {
   "cell_type": "markdown",
   "id": "a5bf4790",
   "metadata": {},
   "source": [
    "Let's make a movie of the positions and velocities! This will save the movie to ``Plummer_posvel.mp4``; you can change this in the ``anim.save()`` line as you make other movies."
   ]
  },
  {
   "cell_type": "code",
   "execution_count": null,
   "id": "aa9fbed7",
   "metadata": {},
   "outputs": [],
   "source": [
    "fig = plt.figure(figsize=(15,7))\n",
    "\n",
    "# Function that updates each frame\n",
    "def animate(frame):\n",
    "    fig.clf()\n",
    "    ax1 = fig.add_subplot(121, aspect=1.0)\n",
    "    ax2 = fig.add_subplot(122, aspect=1.0)\n",
    "    \n",
    "    # First plot: particle positions xy in units of pc\n",
    "    posplot = sim_P.plot_particles(snap=frame, parm='pos', coords='xy', unit=u.pc, \\\n",
    "                                 xlim=[-5,5], ylim=[-5,5], ax=ax1)\n",
    "    # Second plot: velocity ellipsoid xy in units of km/s\n",
    "    velplot = sim_P.plot_particles(snap=frame, parm='vel', coords='xy', unit=u.km/u.s, \\\n",
    "                                xlim=[-75,75], ylim=[-75,75], ax=ax2)\n",
    "    return posplot, velplot\n",
    "\n",
    "ms_per_frame = 40   # 25 frames per second\n",
    "anim = FuncAnimation(fig, animate, frames=sim_P.Nsnap, interval=ms_per_frame)\n",
    "anim.save('Plummer_posvel.mp4')\n",
    "\n",
    "plt.close(fig)"
   ]
  },
  {
   "cell_type": "markdown",
   "id": "45958092",
   "metadata": {},
   "source": [
    "What do you think of them? What do you think about how long it takes to do the simulation vs. to create the movie?\n",
    "\n",
    "We can also turn a GravHopper snapshot into a pynbody snapshot using the ``pyn_snap()`` function, so we can use pynbody's analysis routines to create profiles. So let's make a movie that shows the density profile and velocity dispersion profile over the course of the simulation."
   ]
  },
  {
   "cell_type": "code",
   "execution_count": null,
   "id": "11239d37",
   "metadata": {},
   "outputs": [],
   "source": [
    "fig = plt.figure(figsize=(20,8))\n",
    "\n",
    "# Function that updates each frame\n",
    "def animate(frame):\n",
    "    fig.clf()\n",
    "    ax1 = fig.add_subplot(121)\n",
    "    ax2 = fig.add_subplot(122)\n",
    "    \n",
    "    # Create a pynbody snapshot of the given snapshot\n",
    "    snap = sim_P.pyn_snap(frame)\n",
    "    # The conversion routine forces position units to kpc, but pc is much more convenient\n",
    "    # for this situation, so convert it back before making the profile.\n",
    "    snap['pos'].convert_units('pc')\n",
    "    # Make a 3D profile of the snapshot\n",
    "    prof = profile.Profile(snap, ndim=3, nbins=200)\n",
    "    \n",
    "    # First plot: density profile\n",
    "    densplot = ax1.plot(prof['rbins'], prof['density'])\n",
    "    ax1.set_xscale('log')\n",
    "    ax1.set_yscale('log')\n",
    "    ax1.set_xlim(1, 50)\n",
    "    ax1.set_ylim(1e-4,3e4)\n",
    "    radial_label = 'r (${0}$)'.format(prof['rbins'].units.latex())\n",
    "    ax1.set_xlabel(radial_label)\n",
    "    ax1.set_ylabel('$\\\\rho$ (${0}$)'.format(prof['density'].units.latex()))\n",
    "    ax1.set_title('{0:.2f}'.format(sim_P.times[frame]))\n",
    "    \n",
    "    # Second plot: radial velocity dispersion profile\n",
    "    sigmaplot = ax2.plot(prof['rbins'], prof['vr_disp'].in_units('km s^-1'))\n",
    "    ax2.set_xscale('log')\n",
    "    ax2.set_xlim(1, 50)\n",
    "    ax2.set_ylim(0, 25)\n",
    "    ax2.set_xlabel(radial_label)\n",
    "    ax2.set_ylabel('$\\\\sigma_r$ (km/s)')\n",
    "    \n",
    "    return densplot, sigmaplot\n",
    "\n",
    "anim = FuncAnimation(fig, animate, frames=sim_P.Nsnap, interval=ms_per_frame)\n",
    "anim.save('Plummer_profiles.mp4')\n",
    "\n",
    "plt.close(fig)"
   ]
  },
  {
   "cell_type": "markdown",
   "id": "bf2257cf",
   "metadata": {},
   "source": [
    "What do you think of these? How does the $\\sigma_r$ plot relate to the particle velocity plots earlier? Do you expect the simulation to be in equilibrium? Does it appear to be based on these various plots and movies? How do you think I decided what value of ``dt`` to use for the simulation?"
   ]
  },
  {
   "cell_type": "markdown",
   "id": "0097647b",
   "metadata": {},
   "source": [
    "## 6. Play with the Plummer sphere\n",
    "\n",
    "**FIXME:** Try changing the scale length ``b`` of the Plummer sphere (you will probably need to play with the limits of the various axes). How would you expect the velocity dispersion to scale with $b$ based on analytic arguments? How does that compare to what you see?\n",
    "\n",
    "**FIXME:** Try changing the total mass of the Plummer sphere. How would you expect the velocity dispersion to scale with mass? How does that compare to what you see?"
   ]
  },
  {
   "cell_type": "markdown",
   "id": "898807a8",
   "metadata": {},
   "source": [
    "## 7. Truncated Singular Isothermal Sphere\n",
    "\n",
    "We investigated the Truncated Singular Isothermal Sphere analytically in Assignment 4 -- now let's examine it numerically!"
   ]
  },
  {
   "cell_type": "code",
   "execution_count": null,
   "id": "984e764c",
   "metadata": {},
   "outputs": [],
   "source": [
    "# Create a TSIS with a mass of 1e11 Msun, a cutoff radius of 100 kpc, sampled with 5000 particles\n",
    "TSIS_IC = IC.TSIS(totmass=1e11*u.Msun, maxrad=100*u.kpc, N=5000)"
   ]
  },
  {
   "cell_type": "markdown",
   "id": "74a3c31a",
   "metadata": {},
   "source": [
    "**FIXME:** Create a simulation with a time step of 5 Myr, softening of 0.2 kpc. Add the TSIS ICs, and run it for 500 time steps."
   ]
  },
  {
   "cell_type": "code",
   "execution_count": null,
   "id": "71c7e572",
   "metadata": {},
   "outputs": [],
   "source": [
    "sim_TSIS = #FIXME\n",
    "sim_TSIS.add_IC(#FIXME\n",
    "sim_TSIS.run(#FIXME"
   ]
  },
  {
   "cell_type": "markdown",
   "id": "628dd71f",
   "metadata": {},
   "source": [
    "Let's make movies of the positions/velocities and the density/velocity dispersion profiles for this case too."
   ]
  },
  {
   "cell_type": "code",
   "execution_count": null,
   "id": "59f8442c",
   "metadata": {},
   "outputs": [],
   "source": [
    "fig = plt.figure(figsize=(10,5))\n",
    "\n",
    "# Function that updates each frame\n",
    "def animate(frame):\n",
    "    fig.clf()\n",
    "    ax1 = fig.add_subplot(121, aspect=1.0)\n",
    "    ax2 = fig.add_subplot(122, aspect=1.0)\n",
    "    \n",
    "    # First plot: particle positions xy in units of pc\n",
    "    posplot = sim_TSIS.plot_particles(snap=frame, parm='pos', coords='xy', unit=u.kpc, \\\n",
    "                                 xlim=[-200,200], ylim=[-200,200], ax=ax1)\n",
    "    # Second plot: velocity ellipsoid xy in units of km/s\n",
    "    velplot = sim_TSIS.plot_particles(snap=frame, parm='vel', coords='xy', unit=u.km/u.s, \\\n",
    "                                xlim=[-200,200], ylim=[-200,200], ax=ax2)\n",
    "    return posplot, velplot\n",
    "\n",
    "ms_per_frame = 40   # 25 frames per second\n",
    "anim = FuncAnimation(fig, animate, frames=sim_TSIS.Nsnap, interval=ms_per_frame)\n",
    "anim.save('TSIS_posvel.mp4')\n",
    "\n",
    "plt.close(fig)"
   ]
  },
  {
   "cell_type": "code",
   "execution_count": null,
   "id": "5ff5169d",
   "metadata": {},
   "outputs": [],
   "source": [
    "fig = plt.figure(figsize=(20,8))\n",
    "\n",
    "# Function that updates each frame\n",
    "def animate(frame):\n",
    "    fig.clf()\n",
    "    ax1 = fig.add_subplot(121)\n",
    "    ax2 = fig.add_subplot(122)\n",
    "    \n",
    "    # Create a pynbody snapshot of the given snapshot and make a 3D profile from it\n",
    "    snap = sim_TSIS.pyn_snap(frame)\n",
    "    # Make a 3D profile of the snapshot\n",
    "    prof = profile.Profile(snap, ndim=3, nbins=200)\n",
    "    \n",
    "    # First plot: density profile\n",
    "    densplot = ax1.plot(prof['rbins'], prof['density'])\n",
    "    ax1.set_xscale('log')\n",
    "    ax1.set_yscale('log')\n",
    "    ax1.set_xlim(0.2, 400)\n",
    "    ax1.set_ylim(1e-1,1e10)\n",
    "    radial_label = 'r (${0}$)'.format(prof['rbins'].units.latex())\n",
    "    ax1.set_xlabel(radial_label)\n",
    "    ax1.set_ylabel('$\\\\rho$ (${0}$)'.format(prof['density'].units.latex()))\n",
    "    ax1.set_title('{0:.2f}'.format(sim_TSIS.times[frame]))\n",
    "    \n",
    "    # Second plot: radial velocity dispersion profile\n",
    "    sigmaplot = ax2.plot(prof['rbins'], prof['vr_disp'].in_units('km s^-1'))\n",
    "    ax2.set_xscale('log')\n",
    "    ax2.set_xlim(0.2, 400)\n",
    "    ax2.set_ylim(0, 60)\n",
    "    ax2.set_xlabel(radial_label)\n",
    "    ax2.set_ylabel('$\\\\sigma_r$ (km/s)')\n",
    "    \n",
    "    return densplot, sigmaplot\n",
    "\n",
    "anim = FuncAnimation(fig, animate, frames=sim_TSIS.Nsnap, interval=ms_per_frame)\n",
    "anim.save('TSIS_profiles.mp4')\n",
    "\n",
    "plt.close(fig)"
   ]
  },
  {
   "cell_type": "markdown",
   "id": "988e2d49",
   "metadata": {},
   "source": [
    "How does this situation differ from the Plummer sphere? What happens at small radius? What happens near the truncation radius? What happens at large radius? Think about the TSIS question from Assignment 4 -- what would you have expected to happen based on your analysis? How does that relate to what you see here? Think about Liouville's Theorem -- how is what you see in the ``TSIS_posvel.mp4`` movie an example of that?"
   ]
  },
  {
   "cell_type": "markdown",
   "id": "b7095d6a",
   "metadata": {},
   "source": [
    "## 8. Do something interesting\n",
    "\n",
    "Modify something in one of the spherical examples. For example:\n",
    " - Try changing ``dt`` significantly. What effect does it have?\n",
    " - Try changing ``N`` significantly. How does it affect what you see? How does it affect how long it takes the simulation to run?\n",
    " - Try running the simulation for much longer. Do you see any distinct long-term evolution of the system that's different from what happens on shorter timescales?\n",
    " - Use the Hernquist sphere (you can run ``help(IC.Hernquist)`` to find the parameters it takes). How does it behave compared to the other examples?\n",
    " - Use one of galpy's other spherical distribution functions (see [here](https://docs.galpy.org/en/latest/reference/df.html)) and ``IC.from_galpy_df()`` to do another IC. Note that the galpy DFs don't play nicely with astropy units, so you will need to convert the units manually."
   ]
  },
  {
   "cell_type": "markdown",
   "id": "e2e4faa6",
   "metadata": {},
   "source": [
    "## 9. Disk stability\n",
    "\n",
    "We will create an exponential disk that is isothermal in the vertical direction, in a background NFW potential, and let it run. Solving for an equilibrium disk configuration is very hard, and so ``IC.expdisk`` does an approximate solution.\n",
    "\n",
    "First we need to define the analytic NFW potential. This is both used in the simulation, so all particles will feel this extra force in addition to the force from all the other particles, and is also required by the IC code so that it knows what rotation velocities to give the particles."
   ]
  },
  {
   "cell_type": "code",
   "execution_count": null,
   "id": "9dfbf0ef",
   "metadata": {},
   "outputs": [],
   "source": [
    "# Galpy NFW potential with a scale mass of 2e11 Msun and scale radius of 20 kpc\n",
    "NFWpot = potential.NFWPotential(amp=2e11*u.Msun, a=20*u.kpc)"
   ]
  },
  {
   "cell_type": "code",
   "execution_count": null,
   "id": "d0fce47b",
   "metadata": {},
   "outputs": [],
   "source": [
    "# Create an exponential disk with central surface brightness of 100 Msun/pc^2, exponential scale length of 2kpc\n",
    "# and vertical height of 0.2 kpc, a radial velocity dispersion scale of 20 km/s, and\n",
    "# using the NFWpot rotation curve as an external force with 5000 particles\n",
    "expdisk_IC = IC.expdisk(N=5000, sigma0=100*u.Msun/u.pc**2, Rd=2*u.kpc, z0=0.2*u.kpc, sigmaR_Rd=20*u.km/u.s,\\\n",
    "                       external_rotcurve=NFWpot.vcirc)"
   ]
  },
  {
   "cell_type": "code",
   "execution_count": null,
   "id": "2919aa7a",
   "metadata": {},
   "outputs": [],
   "source": [
    "# Create a simulation with a 2.5 Myr time step and 0.1 kpc softening\n",
    "sim_disk = Simulation(dt=2.5*u.Myr, eps=0.1*u.kpc)\n",
    "# Add the disk IC\n",
    "sim_disk.add_IC(expdisk_IC)\n",
    "# Add the NFW potential as an external force\n",
    "sim_disk.add_external_force(NFWpot)"
   ]
  },
  {
   "cell_type": "code",
   "execution_count": null,
   "id": "e29a2907",
   "metadata": {},
   "outputs": [],
   "source": [
    "# Run for 400 time steps\n",
    "sim_disk.run(400)"
   ]
  },
  {
   "cell_type": "markdown",
   "id": "d32c0979",
   "metadata": {},
   "source": [
    "Let's make a movie of the particle positions and velocities, both face-on and edge-on."
   ]
  },
  {
   "cell_type": "code",
   "execution_count": null,
   "id": "d5fd57b9",
   "metadata": {},
   "outputs": [],
   "source": [
    "fig = plt.figure(figsize=(15,15))\n",
    "\n",
    "# Function that updates each frame\n",
    "def animate(frame):\n",
    "    fig.clf()\n",
    "    ax_xy = fig.add_subplot(221, aspect=1.0)\n",
    "    ax_xz = fig.add_subplot(223, aspect=1.0)\n",
    "    ax_vxy = fig.add_subplot(222, aspect=1.0)\n",
    "    ax_vxz = fig.add_subplot(224, aspect=1.0)\n",
    "    \n",
    "    # First plot: particle positions xy in units of kpc\n",
    "    plot_xy = sim_disk.plot_particles(snap=frame, parm='pos', coords='xy', unit=u.kpc, \\\n",
    "                                 xlim=[-20,20], ylim=[-20,20], ax=ax_xy)\n",
    "    # Second plot: velocity in xy in units of km/s\n",
    "    plot_vxy = sim_disk.plot_particles(snap=frame, parm='vel', coords='xy', unit=u.km/u.s, \\\n",
    "                                xlim=[-200,200], ylim=[-200,200], ax=ax_vxy)\n",
    "\n",
    "    # Same but xz\n",
    "    plot_xz = sim_disk.plot_particles(snap=frame, parm='pos', coords='xz', unit=u.kpc, \\\n",
    "                                 xlim=[-20,20], ylim=[-20,20], ax=ax_xz)\n",
    "    plot_vxz = sim_disk.plot_particles(snap=frame, parm='vel', coords='xz', unit=u.km/u.s, \\\n",
    "                                xlim=[-200,200], ylim=[-200,200], ax=ax_vxz)\n",
    "        \n",
    "    return plot_xy, plot_vxy, plot_xz, plot_vxz\n",
    "\n",
    "ms_per_frame = 40   # 25 frames per second\n",
    "anim = FuncAnimation(fig, animate, frames=sim_disk.Nsnap, interval=ms_per_frame)\n",
    "anim.save('disk_posvel.mp4')\n",
    "\n",
    "plt.close(fig)"
   ]
  },
  {
   "cell_type": "markdown",
   "id": "95501a68",
   "metadata": {},
   "source": [
    "Think about what you're seeing, both initially and after it settles down. Does it reach a reasonably steady state, or does it continue to evolve?\n",
    "\n",
    "Let's look at the evolution of the surface density and vertical density profiles."
   ]
  },
  {
   "cell_type": "code",
   "execution_count": null,
   "id": "c87d0206",
   "metadata": {},
   "outputs": [],
   "source": [
    "fig = plt.figure(figsize=(18,9))\n",
    "\n",
    "plotz_max = 2.\n",
    "\n",
    "# Function that updates each frame\n",
    "def animate(frame):\n",
    "    fig.clf()\n",
    "    ax_surfdens = fig.add_subplot(121)\n",
    "    ax_vertdens = fig.add_subplot(122)\n",
    "    \n",
    "    # Create a pynbody snapshot of the given snapshot and make a 3D profile from it\n",
    "    snap = sim_disk.pyn_snap(frame)\n",
    "    # Make a 2D profile of the snapshot (so we get surface density as a function of cylindrical radius)\n",
    "    prof = profile.Profile(snap, ndim=3, nbins=200)\n",
    "    # Vertical profile that gives us density as a function of height. Use all radii between 0 and 25 kpc.\n",
    "    zprof = profile.VerticalProfile(snap, 0., 25., plotz_max)\n",
    "    \n",
    "    # Surface density profile\n",
    "    densplot = ax_surfdens.plot(prof['rbins'], prof['density'])\n",
    "    ax_surfdens.set_xscale('log')\n",
    "    ax_surfdens.set_yscale('log')\n",
    "    ax_surfdens.set_xlim(0.1, 20)\n",
    "    ax_surfdens.set_ylim(1e2,1e8)\n",
    "    radial_label = 'r (${0}$)'.format(prof['rbins'].units.latex())\n",
    "    ax_surfdens.set_xlabel(radial_label)\n",
    "    ax_surfdens.set_ylabel('$\\\\Sigma$ (${0}$)'.format(prof['density'].units.latex()))\n",
    "    ax_surfdens.set_title('{0:.1f}'.format(sim_disk.times[frame]))\n",
    "    \n",
    "    # Vertical density profile\n",
    "    vertplot = ax_vertdens.plot(zprof['rbins'], zprof['density'].in_units('Msol pc^-3'))\n",
    "    ax_vertdens.set_yscale('log')\n",
    "    ax_vertdens.set_xlim(0,plotz_max)\n",
    "    ax_vertdens.set_ylim(3e-6, 3e-3)\n",
    "    vertical_axis_label = 'z (${0}$)'.format(zprof['rbins'].units.latex())\n",
    "    ax_vertdens.set_xlabel(vertical_axis_label)\n",
    "    ax_vertdens.set_ylabel('$\\\\rho$ [M$_{\\odot}$ pc$^{-3}$]')\n",
    "        \n",
    "    return densplot, vertplot\n",
    "\n",
    "anim = FuncAnimation(fig, animate, frames=sim_disk.Nsnap, interval=ms_per_frame)\n",
    "anim.save('disk_profiles.mp4')\n",
    "\n",
    "plt.close(fig)"
   ]
  },
  {
   "cell_type": "markdown",
   "id": "5ec624ab",
   "metadata": {},
   "source": [
    "Look at these. How do they connect to how we tried to set up the disk? How do they connect to what you see in the particle movies?\n",
    "\n",
    "We can also use profiles to make movies of the 3 velocity components. We'll plot both the mean velocities and the dispersions."
   ]
  },
  {
   "cell_type": "code",
   "execution_count": null,
   "id": "6b00d0f0",
   "metadata": {},
   "outputs": [],
   "source": [
    "fig = plt.figure(figsize=(18,18))\n",
    "\n",
    "radius_range = [0,20]\n",
    "vrange = [-15,40]\n",
    "\n",
    "# Function that updates each frame\n",
    "def animate(frame):\n",
    "    fig.clf()\n",
    "    ax_vr = fig.add_subplot(221)\n",
    "    ax_vphi = fig.add_subplot(222)\n",
    "    ax_vz = fig.add_subplot(223)\n",
    "    \n",
    "    # Create a pynbody snapshot of the given snapshot and make a 3D profile from it\n",
    "    snap = sim_disk.pyn_snap(frame)\n",
    "    # Make a 2D profile of the snapshot\n",
    "    prof = profile.Profile(snap, ndim=3, nbins=200)\n",
    "    radial_label = 'r (${0}$)'.format(prof['rbins'].units.latex())\n",
    "\n",
    "    vrplot = ax_vr.plot(prof['rbins'], prof['vr'], label='$<v_R>$')\n",
    "    ax_vr.plot(prof['rbins'], prof['vr_disp'], label='$\\sigma_R$')\n",
    "    ax_vr.plot(radius_range, [0,0], color='gray')\n",
    "    ax_vr.set_xlim(*radius_range)\n",
    "    ax_vr.set_ylim(*vrange)\n",
    "    ax_vr.set_xlabel(radial_label)\n",
    "    ax_vr.set_ylabel('Radial Velocity')\n",
    "    ax_vr.legend(loc='upper right')\n",
    "\n",
    "    vphiplot = ax_vphi.plot(prof['rbins'], prof['vphi'], label='$<v_{\\phi}>$')\n",
    "    ax_vphi.plot(prof['rbins'], prof['vphi_disp'], label='$\\sigma_{\\phi}$')\n",
    "    ax_vphi.set_xlim(*radius_range)\n",
    "    ax_vphi.set_ylim(0,100)  # These will be higher\n",
    "    ax_vphi.set_xlabel(radial_label)\n",
    "    ax_vphi.set_ylabel('Azimuthal Velocity')\n",
    "    ax_vphi.legend(loc='upper left')\n",
    "    \n",
    "    vzplot = ax_vz.plot(prof['rbins'], prof['vz'], label='$<v_z>$')\n",
    "    ax_vz.plot(prof['rbins'], prof['vz_disp'], label='$\\sigma_z$')\n",
    "    ax_vz.plot(radius_range, [0,0], color='gray')\n",
    "    ax_vz.set_xlim(*radius_range)\n",
    "    ax_vz.set_ylim(*vrange)\n",
    "    ax_vz.set_xlabel(radial_label)\n",
    "    ax_vz.set_ylabel('Vertical Velocity')\n",
    "    ax_vz.legend(loc='upper right')\n",
    "    \n",
    "    return vrplot, vphiplot, vzplot\n",
    "\n",
    "anim = FuncAnimation(fig, animate, frames=sim_disk.Nsnap, interval=ms_per_frame)\n",
    "anim.save('disk_vprofs.mp4')\n",
    "\n",
    "plt.close(fig)"
   ]
  },
  {
   "cell_type": "markdown",
   "id": "04b9b5f8",
   "metadata": {},
   "source": [
    "Think about what you're seeing, both in terms of the mean velocities and their dispersions. How does this relate to how you see the densities evolve?"
   ]
  },
  {
   "cell_type": "markdown",
   "id": "4b394620",
   "metadata": {},
   "source": [
    "## 10. Play with the disk\n",
    "\n",
    "**FIXME:** Take each of the disk parameters and try changing it to see what effect it has. Do the equilibrium configurations (if they exist) reflect these changes in the way you would expect? Do the presence or absence of disk instabilities change in the way you would expect?"
   ]
  },
  {
   "cell_type": "markdown",
   "id": "987f4102",
   "metadata": {},
   "source": [
    "## 11. Find a particle and trace its orbit\n",
    "\n",
    "Let's find a particle with particular properties and trace its orbit. We'll choose a particle based on its original position and velocity. Pick a position and velocity for a particle that you would expect to be on a mostly (but not perfectly) circular orbit, i.e. one that should have a slight orbital eccentricity in the orbital plane and a slight vertical bobbing.\n",
    "\n",
    "**FIXME:** Put your preferred particle position and velocity here."
   ]
  },
  {
   "cell_type": "code",
   "execution_count": null,
   "id": "0802ae44",
   "metadata": {},
   "outputs": [],
   "source": [
    "R_desired = #FIXME\n",
    "z_desired = #FIXME\n",
    "vR_desired = #FIXME\n",
    "vz_desired = #FIXME"
   ]
  },
  {
   "cell_type": "code",
   "execution_count": null,
   "id": "224c6e92",
   "metadata": {},
   "outputs": [],
   "source": [
    "# Compare all particles to this, relative to a \"typical\" distance and velocity scale\n",
    "Rscale = 2*u.kpc\n",
    "zscale = 0.2*u.kpc\n",
    "vscale = 2*u.km/u.s\n",
    "disk_R = np.sqrt(sim_disk.positions[0,:,0]**2 + sim_disk.positions[0,:,1]**2)\n",
    "disk_z = sim_disk.positions[0,:,2]\n",
    "disk_vR = (sim_disk.velocities[0,:,0]*sim_disk.positions[0,:,0] + sim_disk.velocities[0,:,1]*sim_disk.positions[0,:,1])/disk_R\n",
    "disk_vz = sim_disk.velocities[0,:,2]\n",
    "how_dissimilar = ((disk_R - R_desired)/Rscale)**2 + ((disk_z - z_desired)/zscale)**2 + \\\n",
    "    ((disk_vR - vR_desired)/vscale)**2 + ((disk_vz - vz_desired)/vscale)**2"
   ]
  },
  {
   "cell_type": "code",
   "execution_count": null,
   "id": "7730de7e",
   "metadata": {},
   "outputs": [],
   "source": [
    "# np.argmin tells you which element in an array has the smallest value\n",
    "best_particle = np.argmin(how_dissimilar)"
   ]
  },
  {
   "cell_type": "markdown",
   "id": "f32ce416",
   "metadata": {},
   "source": [
    "**FIXME:** Check that it did an okay job using this. If not, go back and adjust your desired parameters. You won't find a perfect match, but make sure that it is \"mostly but not perfectly circular\"."
   ]
  },
  {
   "cell_type": "code",
   "execution_count": null,
   "id": "2d4988dd",
   "metadata": {},
   "outputs": [],
   "source": [
    "print('R: ',disk_R[best_particle])\n",
    "print('z: ',disk_z[best_particle])\n",
    "print('vR: ',disk_vR[best_particle])\n",
    "print('vz: ',disk_vz[best_particle])"
   ]
  },
  {
   "cell_type": "markdown",
   "id": "7db7bf2a",
   "metadata": {},
   "source": [
    "Now let's plot this particle's orbit.\n",
    "\n",
    "**FIXME:** Plot the xy and xz trajectories of ``best_particle``."
   ]
  },
  {
   "cell_type": "code",
   "execution_count": null,
   "id": "89d91568",
   "metadata": {},
   "outputs": [],
   "source": [
    "# xy and xz projections\n",
    "fig = plt.figure(figsize=(10,4))\n",
    "ax_xy = fig.add_subplot(121, aspect=1.0)\n",
    "ax_xz = fig.add_subplot(122, aspect=1.0)\n",
    "ax_xy.plot(#FIXME\n",
    "ax_xz.plot(#FIXME\n",
    "# Label appropriately\n",
    "ax_xy.set_#FIXME...\n",
    "ax_xz.set_#FIXME..."
   ]
  },
  {
   "cell_type": "markdown",
   "id": "fa0ff7b1",
   "metadata": {},
   "source": [
    "And let's plot how $R$ and $z$ evolve with time.\n",
    "\n",
    "Note: You might want to use the ``%matplotlib notebook`` pragma to do the analysis of this."
   ]
  },
  {
   "cell_type": "code",
   "execution_count": null,
   "id": "c015c05e",
   "metadata": {},
   "outputs": [],
   "source": [
    "fig = plt.figure(figsize=(12,4))\n",
    "ax_R = fig.add_subplot(121)\n",
    "ax_z = fig.add_subplot(122)\n",
    "# Define R of best_particle for convenience\n",
    "best_R = np.sqrt(sim_disk.positions[:,best_particle,0]**2 + sim_disk.positions[:,best_particle,1]**2)\n",
    "# time label\n",
    "timelabel = 't ({0})'.format(sim_disk.times.unit)\n",
    "\n",
    "ax_R.plot(sim_disk.times, best_R)\n",
    "ax_R.set_xlabel(timelabel)\n",
    "ax_R.set_ylabel('R ({0})'.format(best_R.unit))\n",
    "\n",
    "ax_z.plot(sim_disk.times, sim_disk.positions[:,best_particle,2])\n",
    "ax_z.set_xlabel(timelabel)\n",
    "ax_z.set_ylabel('z ({0})'.format(sim_disk.positions.unit))"
   ]
  },
  {
   "cell_type": "markdown",
   "id": "851da63f",
   "metadata": {},
   "source": [
    "How do these orbits compare to the orbits we computed in Experiment 3? What is your best estimate for the epicyclic frequency, based on this plot? How about the vertical frequency? Are they constant? Is there any relation between the vertical frequency and $R$? What would you expect the frequencies to be at early times based on the NFW + disk potential with the surface density profile we gave and the radius you chose? Do they agree with what you measure from the plot?"
   ]
  },
  {
   "cell_type": "markdown",
   "id": "535c2256",
   "metadata": {},
   "source": [
    "## 12. Do something interesting\n",
    "\n",
    "You know the drill... try something else! For example, you could:\n",
    " - Take some parameters to ridiculous extremes and see whether it reacts how you expect.\n",
    " - Add an N-body bulge (e.g. as a Hernquist IC).\n",
    "     - If you do this, make sure to include its effect on the rotation curve when you set up the disk.\n",
    " - Use a different potential for the halo.\n",
    " - Add a time-dependent potential like a bar (note: if you do this, you will need to use the ``add_external_timedependent_force`` instead of ``add_external_force``).\n",
    " - Run for a very long time to see the long term evolution of the disk.\n",
    " - Try using a halo potential that is different from the rotation curve used to set up the disk."
   ]
  },
  {
   "cell_type": "code",
   "execution_count": null,
   "id": "c813472b",
   "metadata": {},
   "outputs": [],
   "source": []
  }
 ],
 "metadata": {
  "kernelspec": {
   "display_name": "Python 3 (ipykernel)",
   "language": "python",
   "name": "python3"
  },
  "language_info": {
   "codemirror_mode": {
    "name": "ipython",
    "version": 3
   },
   "file_extension": ".py",
   "mimetype": "text/x-python",
   "name": "python",
   "nbconvert_exporter": "python",
   "pygments_lexer": "ipython3",
   "version": "3.10.9"
  }
 },
 "nbformat": 4,
 "nbformat_minor": 5
}
