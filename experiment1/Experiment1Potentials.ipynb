{
 "cells": [
  {
   "cell_type": "markdown",
   "metadata": {},
   "source": [
    "# Computational Experiment 1: Calculating Potentials\n",
    "\n",
    "\n",
    "In this experiment, you will use some python code to numerically integrate the potential for some spherically-symmetric density distributions.\n",
    "\n",
    "Before you begin, **make sure to read through the full notebook and understand what each function does**. Pay special attention to anything that has a **FIXME** note, which you will need to edit. Also make sure that you have ``numpy``, ``scipy``, ``galpy``, ``astropy``, and ``matplotlib`` installed (we don't technically need ``astropy`` for this one, but we will soon and it is an essential package to have if you are doing anything astro-related in python)."
   ]
  },
  {
   "cell_type": "markdown",
   "metadata": {},
   "source": [
    "## 0. Import packages"
   ]
  },
  {
   "cell_type": "code",
   "execution_count": null,
   "metadata": {},
   "outputs": [],
   "source": [
    "import numpy as np\n",
    "import matplotlib.pyplot as plt\n",
    "from galpy import potential as pot\n",
    "from scipy.integrate import quad"
   ]
  },
  {
   "cell_type": "markdown",
   "metadata": {},
   "source": [
    "## 1. Define density and analytic potential for Plummer distribution.\n",
    "\n",
    "Note that ``galpy`` works best in \"natural\" units where $G=1$, so in this experiment we will use that convention. We will be more explicity about using physical units in future experiments. Also note that I've assumed $b=1$ and $M=1$."
   ]
  },
  {
   "cell_type": "code",
   "execution_count": null,
   "metadata": {},
   "outputs": [],
   "source": [
    "# Functions that define the density and potential for a variety of density profiles.\n",
    "def rho_plummer(r):\n",
    "    \"Density of a Plummer model: BT equation 2.44b.\"\n",
    "    return 3.0*(1.0 + r*r)**(-2.5) / (4.0*np.pi)\n",
    "\n",
    "def pot_plummer(r):\n",
    "    \"Analytic potential of a Plummer model: BT equation 2.44a.\"\n",
    "    # Note that the factor of G is missing here. We will be doing a lot of comparing\n",
    "    # to galpy in this exercise, which uses dimensionless units where G=1, so we will\n",
    "    # adopt those too for now.\n",
    "    return -1.0/np.sqrt(r*r+1.0)"
   ]
  },
  {
   "cell_type": "markdown",
   "metadata": {},
   "source": [
    "## 2. Routine to calculate potential numerically from a density distribution."
   ]
  },
  {
   "cell_type": "code",
   "execution_count": null,
   "metadata": {},
   "outputs": [],
   "source": [
    "def pot_numerical(r, dens):\n",
    "    \"Numerically integrate the potential from the function dens at radii r.\"\n",
    "    \n",
    "    # first define two convenience functions for the integration, which return the\n",
    "    # density times r or times r squared.\n",
    "    def rho_times_r(r):\n",
    "        \"rho(r) r. Used as the integrand for part of BT equation 2.28\"\n",
    "        return dens(r)*r\n",
    "        \n",
    "    def rho_times_r2(r):\n",
    "        \"rho(r) r^2. Used as the integrand for part of BT equation 2.28\"\n",
    "        return dens(r)*r*r\n",
    "    \n",
    "    # inner_integral is the first integral from BT equation 2.28\n",
    "    inner_integral = np.array([quad(rho_times_r2, 0.0, x)[0] for x in r])\n",
    "    # outer_integral is the second integral from BT equation 2.28\n",
    "    outer_integral = np.array([quad(rho_times_r, x, np.inf)[0] for x in r])\n",
    "    \n",
    "    # BT equation 2.28: -4 pi G (inner_integral/r + outer_integral)\n",
    "    # (but using G=1)\n",
    "    return -4.0 * np.pi * (inner_integral/r + outer_integral)"
   ]
  },
  {
   "cell_type": "markdown",
   "metadata": {},
   "source": [
    "## 3. Set up what you want to plot. These can be changed to plot different functions as you define them later on."
   ]
  },
  {
   "cell_type": "markdown",
   "metadata": {},
   "source": [
    "Note that there are **FIXME**s in all of these that you will want to come back to later."
   ]
  },
  {
   "cell_type": "code",
   "execution_count": null,
   "metadata": {},
   "outputs": [],
   "source": [
    "# FIXME: TO CHANGE TO A DIFFERENT DENSITY DISTRIBUTION, REPLACE\n",
    "# THESE WITH THE NAMES OF YOUR DENSITY FUNCTION AND ANALYTIC\n",
    "# POTENTIAL FUNCTION (AND AN APPROPRIATE LABEL).\n",
    "# IF YOU DON'T HAVE AN ANALYTIC FORM OF THE POTENTIAL, YOU CAN SAY pot_func = False\n",
    "rho_func = rho_plummer\n",
    "pot_func = pot_plummer\n",
    "label = 'Plummer'"
   ]
  },
  {
   "cell_type": "code",
   "execution_count": null,
   "metadata": {},
   "outputs": [],
   "source": [
    "# FIXME: ONCE YOU'VE CONVINCED YOURSELF THAT YOUR NUMERICAL INTEGRATION VERSION OF THE\n",
    "# POTENTIAL WORKS, YOU DON'T NEED TO PLOT BOTH IT AND GALPY'S VERSION, SO YOU CAN\n",
    "# SET THIS TO False.\n",
    "plot_my_pot_numerical = True"
   ]
  },
  {
   "cell_type": "code",
   "execution_count": null,
   "metadata": {},
   "outputs": [],
   "source": [
    "# FIXME: TO USE ONE OF GALPY'S BUILT-IN POTENTIALS, PUT IT HERE.\n",
    "# IF THERE IS NO BUILT-IN VERSION, YOU CAN SAY pot_galpy = False\n",
    "pot_galpy = pot.PlummerPotential(amp=1.0, b=1.0)"
   ]
  },
  {
   "cell_type": "code",
   "execution_count": null,
   "metadata": {},
   "outputs": [],
   "source": [
    "# galpy has a built-in option to create a potential from a density distribution\n",
    "pot_galpy_from_density = pot.AnySphericalPotential(dens=rho_func)"
   ]
  },
  {
   "cell_type": "markdown",
   "metadata": {},
   "source": [
    "## 4. Plot potential and density profile."
   ]
  },
  {
   "cell_type": "code",
   "execution_count": null,
   "metadata": {},
   "outputs": [],
   "source": [
    "# create an array that contains the values along the x axis\n",
    "xax = 10**np.arange(-2, 3, 0.05)"
   ]
  },
  {
   "cell_type": "code",
   "execution_count": null,
   "metadata": {},
   "outputs": [],
   "source": [
    "# Create a figure showing the potential:\n",
    "# Numerical potential\n",
    "if plot_my_pot_numerical:\n",
    "    plt.plot(xax, pot_numerical(xax, rho_func), 'b.', label=label+' (numerical)')\n",
    "# add a line for the analytic potential if it exists\n",
    "if pot_func:\n",
    "    plt.plot(xax, pot_func(xax), 'y--', label=label+' (analytic)')\n",
    "# add a line for the galpy potential if it exists\n",
    "if pot_galpy:\n",
    "    plt.plot(xax, pot_galpy(xax,0), 'r-.', label=label+' (galpy built-in)')\n",
    "# add a line for galpy's numerical solution given the density\n",
    "plt.plot(xax, [pot_galpy_from_density(x,0) for x in xax], 'k-', ms=2, label=label+' (galpy numerical)')\n",
    "# Make the x scale logarithmic\n",
    "plt.xscale('log')\n",
    "\n",
    "# add axis labels\n",
    "plt.xlabel('$r$')\n",
    "plt.ylabel('$\\Phi$')\n",
    "# add the legend\n",
    "plt.legend(loc='lower right')\n",
    "# save the figure to a file\n",
    "plt.savefig(label+'_potential.png')"
   ]
  },
  {
   "cell_type": "code",
   "execution_count": null,
   "metadata": {},
   "outputs": [],
   "source": [
    "# Create a figure showing the density:\n",
    "plt.figure()\n",
    "# log-log plot of the density\n",
    "plt.loglog(xax, rho_func(xax), 'k-', label=label)\n",
    "# add a line for galpy's built-in if it exists\n",
    "if pot_galpy:\n",
    "    plt.plot(xax, pot_galpy.dens(xax,0), 'r-.', label=label+' (galpy built-in)')\n",
    "# add axis labels\n",
    "plt.xlabel('$r$')\n",
    "plt.ylabel('$\\\\rho$')\n",
    "# add the legend\n",
    "plt.legend()\n",
    "# save the figure to a file\n",
    "plt.savefig(label+'_density.png')"
   ]
  },
  {
   "cell_type": "markdown",
   "metadata": {},
   "source": [
    "**Look at these plots!** What do you learn from them? Does the density go to the expected limits at $r \\ll 1$ and $r \\gg b$?\n",
    "\n",
    "Note that these figures are saved as PNG files with names ``Plummer_potential.png`` and ``Plummer_density.png``."
   ]
  },
  {
   "cell_type": "markdown",
   "metadata": {},
   "source": [
    "## 5. Calculate the circular velocity and escape velocity"
   ]
  },
  {
   "cell_type": "markdown",
   "metadata": {},
   "source": [
    "First it is convenient to define a helper function that integrates the enclosed mass given a density distribution. You can call this function from within your functions."
   ]
  },
  {
   "cell_type": "code",
   "execution_count": null,
   "metadata": {},
   "outputs": [],
   "source": [
    "def enclosed_mass(r, dens):\n",
    "    \"Enclosed mass\"\n",
    "    \n",
    "    # first define a convenience function for the integration, which returns the\n",
    "    # density times r squared\n",
    "    def rho_times_r2(r):\n",
    "        \"rho(r) r^2. Used as the integrand for part of BT equation 2.28\"\n",
    "        return dens(r) * r * r\n",
    "        \n",
    "    # integral is from BT equation 2.27b\n",
    "    integral = np.array([quad(rho_times_r2, 0.0, x)[0] for x in r])\n",
    "    return 4.0 * np.pi * integral"
   ]
  },
  {
   "cell_type": "markdown",
   "metadata": {},
   "source": [
    "**FIXME:** Finish the ``vesc`` function so that it calculates the escape velocity for a potential (BT equation 2.31) and the ``vcirc`` function so that it calculates the circular velocity (BT equation 2.29; you might find it convenient to call the ``enclosed_mass`` function from within ``vcirc``)."
   ]
  },
  {
   "cell_type": "code",
   "execution_count": null,
   "metadata": {},
   "outputs": [],
   "source": [
    "def vesc(r, pot):\n",
    "    \"Escape veloctiy\"\n",
    "    # FIXME: PUT IN YOUR CODE HERE\n",
    "    \n",
    "def vcirc (r, rho):\n",
    "    \"Circular velocity\"\n",
    "    # FIXME: PUT IN YOUR CODE HERE.\n",
    "    # YOU MIGHT FIND THE enclosed_mass FUNCTION HELPFUL, WHICH RETURNS THE ENCLOSED MASS\n",
    "    # WITHIN A GIVEN RADIUS FOR A DENSITY FUNCTION."
   ]
  },
  {
   "cell_type": "code",
   "execution_count": null,
   "metadata": {},
   "outputs": [],
   "source": [
    "# Create a figure showing the circular velocities:\n",
    "if plot_my_pot_numerical:\n",
    "    plt.plot(xax, vcirc(xax, rho_func), 'k-', label='$v_{circ}$ '+label)\n",
    "# add a line for the galpy numerical solution\n",
    "plt.plot(xax, [pot_galpy_from_density.vcirc(x) for x in xax], 'b.', ms=2, label='$v_{circ}$ '+label+' (galpy numerical)')\n",
    "# add a line for galpy's built in if it exists\n",
    "if pot_galpy:\n",
    "    plt.plot(xax, pot_galpy.vcirc(xax), 'y--', label='$v_{circ}$ '+label+' (galpy built-in)')\n",
    "# Make x axis logarithmic\n",
    "plt.xscale('log')\n",
    "plt.xlabel('$r$')\n",
    "plt.ylabel('$v$')\n",
    "plt.legend()\n",
    "plt.savefig(label+'_vc.png')"
   ]
  },
  {
   "cell_type": "code",
   "execution_count": null,
   "metadata": {},
   "outputs": [],
   "source": [
    "# same for vesc\n",
    "plt.figure()\n",
    "if pot_func:\n",
    "    plt.plot(xax, vesc(xax, pot_func), 'k-', label='$v_{escape}$ '+label)\n",
    "else:\n",
    "    if plot_my_pot_numerical:\n",
    "        plt.plot(xax, vesc(xax, pot_numerical(xax, rho_func)), label='$v_{escape}$ '+label)\n",
    "# add a line for the galpy numerical solution\n",
    "plt.plot(xax, [pot_galpy_from_density.vesc(x) for x in xax], 'b.', ms=2, label='$v_{escape}$ '+label+' (galpy numerical)')\n",
    "# add a line for galpy's built-in if it exists\n",
    "if pot_galpy:\n",
    "    plt.plot(xax, pot_galpy.vesc(xax), 'y--', label='$v_{escape}$ '+label+' (galpy built-in)')\n",
    "# add axis labels\n",
    "plt.xscale('log')\n",
    "plt.xlabel('$r$')\n",
    "plt.ylabel('$v$')\n",
    "# add legend\n",
    "plt.legend()\n",
    "# save to file\n",
    "plt.savefig(label+'_vesc.png')"
   ]
  },
  {
   "cell_type": "markdown",
   "metadata": {},
   "source": [
    "**Look at these plots!** What do you learn from them?\n",
    "\n",
    "Note that these figures are saved as PNG files with names ``Plummer_vc.png`` and ``Plummer_vesc.png``."
   ]
  },
  {
   "cell_type": "markdown",
   "metadata": {},
   "source": [
    "## 6. Try different mass distributions\n",
    "\n",
    "**FIXME:** First, implement an NFW distribution in the ``rho_NFW`` and ``pot_NFW`` functions below."
   ]
  },
  {
   "cell_type": "code",
   "execution_count": null,
   "metadata": {},
   "outputs": [],
   "source": [
    "def rho_NFW(r):\n",
    "    \"Density of an NFW model: BT equation 2.64.\"\n",
    "    # FIXME: PUT IN YOUR CODE HERE\n",
    "    \n",
    "def pot_NFW(r):\n",
    "    \"Analytic potential of an NFW model: BT equation 2.67.\"\n",
    "    # FIXME: PUT IN YOUR CODE HERE"
   ]
  },
  {
   "cell_type": "markdown",
   "metadata": {},
   "source": [
    "Now go back up to section 3 and update ``rho_func``, ``pot_func``, ``label``, and ``pot_galpy`` appropriately (you may want to look at [the galpy documentation on potentials](https://docs.galpy.org/en/v1.7.0/reference/potential.html#specific-potentials)) and re-run all of the code to generate plots for the NFW distribution. You might find it most convenient to create new notebook cells here and copy the code from section 3 so that you don't overwrite what you did above."
   ]
  },
  {
   "cell_type": "markdown",
   "metadata": {},
   "source": [
    "**Look at the plots.** How is the NFW density distribution different from the Plummer distribution? How are the potentials different? How are the circular and escape velocities different? How easily do you think you could observationally tell the difference between them?"
   ]
  },
  {
   "cell_type": "markdown",
   "metadata": {},
   "source": [
    "## 7. Try something\n",
    "\n",
    "Finally, try implementing another density distribution for which you don’t know the analytic form of the potential (note: if there is no analytic potential, then set ``pot_func=False``). I encourage you to be creative rather than making it physically realistic! Pay attention to how sensitive the shape of the potential and of the velocities is to the shape of the density distribution, and think about what that means for observationally determining density distributions."
   ]
  },
  {
   "cell_type": "markdown",
   "metadata": {},
   "source": [
    "**Everyone please bring your plots**, not just the discussion leader, especially for the last part where everyone’s should look different!"
   ]
  },
  {
   "cell_type": "code",
   "execution_count": null,
   "metadata": {},
   "outputs": [],
   "source": []
  }
 ],
 "metadata": {
  "kernelspec": {
   "display_name": "Python 3 (ipykernel)",
   "language": "python",
   "name": "python3"
  },
  "language_info": {
   "codemirror_mode": {
    "name": "ipython",
    "version": 3
   },
   "file_extension": ".py",
   "mimetype": "text/x-python",
   "name": "python",
   "nbconvert_exporter": "python",
   "pygments_lexer": "ipython3",
   "version": "3.10.9"
  }
 },
 "nbformat": 4,
 "nbformat_minor": 4
}
