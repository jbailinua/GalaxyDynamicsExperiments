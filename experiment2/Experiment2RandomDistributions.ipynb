{
 "cells": [
  {
   "cell_type": "markdown",
   "metadata": {},
   "source": [
    "# Computational Experiment 2: Generating Random Distributions\n",
    "\n",
    "In this experiment you will use transformation of probability to generate arbitrary distributions of random numbers, and then use the same technique to generate density distrubutions.\n",
    "\n",
    "Before you begin, **make sure to read through the full notebook and understand what each function does**. Pay special attention to anything that has a **FIXME** note, which you will need to edit. Also, in addition to all of the packages from Experiment 1, install ``pynbody`` from [here](https://pynbody.github.io/pynbody/)."
   ]
  },
  {
   "cell_type": "markdown",
   "metadata": {},
   "source": [
    "Before you do anything else, read the [Transformation of Probability Tuturial](https://github.com/jbailinua/probability/blob/master/Transformation%20of%20Probability%20-%20Generating%20Distributions.ipynb). Make sure you understand it, and talk to me about anything you don't understand before you proceed. Note that there's lots of code there that you might find useful - **please borrow code liberally from it!**"
   ]
  },
  {
   "cell_type": "markdown",
   "metadata": {},
   "source": [
    "## 0. Import packages"
   ]
  },
  {
   "cell_type": "code",
   "execution_count": null,
   "metadata": {},
   "outputs": [],
   "source": [
    "import numpy as np\n",
    "from numpy.random import random\n",
    "import matplotlib.pyplot as plt\n",
    "from scipy.interpolate import interp1d\n",
    "import pynbody as pyn"
   ]
  },
  {
   "cell_type": "markdown",
   "metadata": {},
   "source": [
    "## 1. Generate numbers from a random distribution\n",
    "\n",
    "For the first case, you will generate 2000 random numbers that have the following distribution:\n",
    "\n",
    "$$ P(y) \\propto \\left\\{ \\begin{array}{l@{\\quad}l} \\sqrt{y-a} & a \\le y < 10 \\\\ 0 & \\textrm{otherwise} \\\\ \\end{array} \\right. $$\n",
    "\n",
    "Go through steps 1-3 from the tutorial, and determine the appropriate transformation.\n",
    "\n",
    "**FIXME:** Now edit the following code to generate the random numbers. Use $a=1$ to start.\n"
   ]
  },
  {
   "cell_type": "code",
   "execution_count": null,
   "metadata": {},
   "outputs": [],
   "source": [
    "# Generate 2000 random numbers with a simple analytic function.\n",
    "# Number of numbers to generate:\n",
    "N = 2000\n",
    "# Generate N uniform random deviates\n",
    "xi = random(N)\n",
    "# FIXME: Transform xi into y\n",
    "# NOTE: If you have fractions like 2/3, make sure that you write them\n",
    "# as 2./3. so they are interpreted as reals, not integers!\n",
    "# To a computer 2./3. = 0.666666...  but 2/3 = 0 !\n",
    "a = 1.0\n",
    "y = #FIXME"
   ]
  },
  {
   "cell_type": "markdown",
   "metadata": {},
   "source": [
    "Now make a histogram of them to see if it looks like you expect."
   ]
  },
  {
   "cell_type": "code",
   "execution_count": null,
   "metadata": {},
   "outputs": [],
   "source": [
    "# Plot a histogram of y\n",
    "histy_N, histy_y, histy_p = plt.hist(y)\n",
    "plt.xlabel('y')\n",
    "plt.ylabel('N')\n",
    "plt.title('a = {0}'.format(a))  # This title will be useful later when you try different values of a\n",
    "# FIXME: CHANGE THIS TO CHANGE THE FILE NAME\n",
    "plt.savefig('exp2-A.pdf')"
   ]
  },
  {
   "cell_type": "markdown",
   "metadata": {},
   "source": [
    "Look at it! Does this appear to have the right functional form?"
   ]
  },
  {
   "cell_type": "markdown",
   "metadata": {},
   "source": [
    "## 2. Compare with the pdf\n",
    "\n",
    "This might look fine, but we want to check that it actually worked by overplotting the correct pdf.\n",
    "\n",
    "To do this, we need to make sure the normalization makes sense given the number of random numbers and the width of the histogram bins. Consider that for a properly normalized pdf (which you used in your transformation), the fraction between $y$ and $y + dy$ is $P(y)$, and the total is 1. If you have a histogram with bins of width $\\Delta y$ and a total of $N$, what do you need to multiply $P(y)$ by to match the histogram height?"
   ]
  },
  {
   "cell_type": "markdown",
   "metadata": {},
   "source": [
    "Let's make a new histogram that has the correctly-normalized $P(y)$ overplotted.\n",
    "\n",
    "**FIXME:** Put your renormalized ``Py`` in the appropriate place."
   ]
  },
  {
   "cell_type": "code",
   "execution_count": null,
   "metadata": {},
   "outputs": [],
   "source": [
    "# Plot a histogram of y\n",
    "histy_N, histy_y, histy_p = plt.hist(y)\n",
    "plt.xlabel('y')\n",
    "plt.ylabel('N')\n",
    "plt.title('a = {0}'.format(a))\n",
    "\n",
    "# histy_y gives the y values of the edge points of the histogram bins, so we can use\n",
    "# them to determine the width of the bin that plt.hist chose... let's just subtract\n",
    "# the first value (histy_y[0] since Python is 0-indexed) from the second value.\n",
    "binwidth = histy_y[1] - histy_y[0]\n",
    "# To plot P(y), we need an array of y values. This creates an array of values from 0 to\n",
    "# 11 spaced 0.05 apart. This is the variable we should use when plotting Py.\n",
    "yax = np.arange(0, 11, 0.05)\n",
    "# FIXME: Put the correctly-normalized P(yax) here, taking into account N and binwidth.\n",
    "# NOTE!! Because P(y) is disjointed (it has a different definition at a<y<10 than\n",
    "# outside), we need to define it somewhat carefully. To do this, we create an array\n",
    "# of Boolean (True/False) values that tells us what values of yax are between a and 10,\n",
    "# and then only use those indices. The steps are:\n",
    "#   1. Create the Boolean array yax_is_between_a_and_10.\n",
    "#   2. Use Py[yax_is_between_a_and_10] and yax[yax_is_between_a_and_10] in the subsequent\n",
    "# equation.\n",
    "# For Part 4, you should just use Py and yax on their own, unless your PDF is defined\n",
    "# only over a certain range like this one.\n",
    "yax_is_between_a_and_10 = (a < yax) * (yax < 10)\n",
    "Py = np.zeros_like(yax)  # This creates an array of zeros that has the same length as yax\n",
    "Py[yax_is_between_a_and_10] = #FIXME\n",
    "\n",
    "plt.plot(yax, Py, linewidth=2, color='black')\n",
    "# FIXME: Change this to change the file name.\n",
    "plt.savefig('exp2-B.pdf')"
   ]
  },
  {
   "cell_type": "markdown",
   "metadata": {},
   "source": [
    "Look at the plot. Do the histograms and expected $P(y)$ match? Look *quantitatively* at how much the histogram scatters around the analytic curve -- what is the typical scale of discrepancy? How much scatter *quantitatively* would you expect from simple statistics? How do they compare?"
   ]
  },
  {
   "cell_type": "markdown",
   "metadata": {},
   "source": [
    "## 3. Effects of the parameter values\n",
    "\n",
    "**FIXME:** Go back and do Parts 2 and 3 using at least two different values of $a$. How does the value of $a$ change the pdf? What range of values of $a$ are possible for this pdf?"
   ]
  },
  {
   "cell_type": "markdown",
   "metadata": {},
   "source": [
    "## 4. Inverting the equation using numerical interpolation\n",
    "\n",
    "Find a pdf that has no analytic solution for the inversion step. You can use an analytic pdf that has no closed form solution -- or even better, find some empirical distribution to recreate. For example, maybe you can find a data set related to your research -- make a mock galaxy survey that has the same redshift distribution as SDSS, or a mock set of X-ray events that match an observed X-ray spectrum, or a set of stars that have the color distribution as the stars in a globular cluster.\n",
    "\n",
    "**FIXME:** Either code the functional form of the CDF or load in data and use it to create the CDF."
   ]
  },
  {
   "cell_type": "code",
   "execution_count": null,
   "metadata": {},
   "outputs": [],
   "source": [
    "# FIXME: LOAD YOUR DATA IF APPROPRIATE"
   ]
  },
  {
   "cell_type": "code",
   "execution_count": null,
   "metadata": {},
   "outputs": [],
   "source": [
    "# FIXME: DEFINE YOUR CDF\n",
    "cdf_x = #FIXME\n",
    "cdf_y = #FIXME"
   ]
  },
  {
   "cell_type": "code",
   "execution_count": null,
   "metadata": {},
   "outputs": [],
   "source": [
    "# Plot the CDF\n",
    "plt.plot(cdf_x, cdf_y)\n",
    "plt.xlabel('FIXME: PUT A SENSIBLE LABEL HERE')\n",
    "plt.ylabel('CDF')\n",
    "plt.savefig('exp2-C-cdf.pdf')"
   ]
  },
  {
   "cell_type": "markdown",
   "metadata": {},
   "source": [
    "Look at the CDF. What features do you see? What does it mean when the CDF is steep vs. shallow?\n",
    "\n",
    "Now use it to create your random sample."
   ]
  },
  {
   "cell_type": "code",
   "execution_count": null,
   "metadata": {},
   "outputs": [],
   "source": [
    "# Use interp1d to create an interpolation function.\n",
    "x_from_xi = interp1d(cdf_y, cdf_x)"
   ]
  },
  {
   "cell_type": "code",
   "execution_count": null,
   "metadata": {},
   "outputs": [],
   "source": [
    "# Create 5000 samples from a uniform random deviate.\n",
    "# FIXME: You might want to use more depending on the pdf you are trying to reproduce.\n",
    "N = 5000\n",
    "xi = random(N)\n",
    "# Transform them\n",
    "x = x_from_xi(xi)"
   ]
  },
  {
   "cell_type": "markdown",
   "metadata": {},
   "source": [
    "Now let's plot the $\\xi$ distribution and the transformed distribution.\n",
    "\n",
    "**FIXME:** Make sure to overplot the pdf you were trying to reproduce. If you are reproducing an empirical distribution, you will probably find the ``numpy.histogram`` function useful as noted in the comments."
   ]
  },
  {
   "cell_type": "code",
   "execution_count": null,
   "metadata": {},
   "outputs": [],
   "source": [
    "# Plot histograms of xi and the transformed value\n",
    "fig = plt.figure()\n",
    "figsize = fig.get_size_inches()\n",
    "figsize[0] *= 2\n",
    "fig.set_size_inches(figsize)\n",
    "ax1 = fig.add_subplot(121)\n",
    "ax1.hist(xi)\n",
    "ax1.set_xlabel('$\\\\xi$')\n",
    "ax1.set_ylabel('$P(\\\\xi)$')\n",
    "ax1.set_xlim(-0.2,1.2)\n",
    "ax2 = fig.add_subplot(122)\n",
    "# FIXME: If you want to change the histogram binning to have bins of width \"binwidth\" between \"low\" and \"high\",\n",
    "# then replace the hist() call with hist(x, bins=np.arange(low, high, binwidth))\n",
    "hist_N, hist_y, hist_p = ax2.hist(x)\n",
    "ax2.set_xlabel('$x$')\n",
    "ax2.set_ylabel('$P(x)$')\n",
    "\n",
    "binwidth = hist_y[1] - hist_y[0]\n",
    "# FIXME: OVERPLOT THE PDF YOU WERE TRYING TO REPRODUCE AS IN PART 2\n",
    "# If you are reproducing an empirical distribution, the following technique is helpful. If your data is in\n",
    "# the variable \"data\", and you want bins of width \"binwidth\" between \"low\" and \"high\", then try\n",
    "# xax = np.arange(low, high, binwidth)\n",
    "# Px = np.histogram(data, bins=xax, density=True)[0] * binwidth * N\n",
    "# If you do that you will also need to replace xax in the subsequent plot command with xax[:-1]\n",
    "xax = # FIXME: USE np.arange WITH APPROPRIATE VALUES FOR YOUR PDF\n",
    "Px = # FIXME: YOUR PDF\n",
    "ax2.plot(xax, Px, linewidth=1, color='black')\n",
    "\n",
    "plt.savefig('exp2-C-pdf.pdf')"
   ]
  },
  {
   "cell_type": "markdown",
   "metadata": {},
   "source": [
    "## 5. Generate a spherically-symmetric density distribution\n",
    "\n",
    "Now let's create a sample of points in 3D that have a desired density distribution:\n",
    "\n",
    "$$ \\rho(r) \\propto r^{-2} \\, e^{-r/r_c} $$\n",
    "\n",
    "Determine approprate pdfs for the three spherical coordinates, i.e. $P(r)$, $P(\\theta)$, and $P(\\phi)$. Then derive appropriate transformations for each from a uniform random deviate $\\xi$.\n",
    "\n",
    "**FIXME:** Implement that transformation here. Assume $r_c=100$ for now."
   ]
  },
  {
   "cell_type": "code",
   "execution_count": null,
   "metadata": {},
   "outputs": [],
   "source": [
    "# Generate a 3D density distribution with 5000 points\n",
    "N = 5000\n",
    "# We need 3 random deviates, one for each spherical coordinate\n",
    "xi_r = random(N)\n",
    "xi_theta = random(N)\n",
    "xi_phi = random(N)\n",
    "# FIXME: Transform them to find r, theta, and phi. Use xi_r for r, xi_theta for theta,\n",
    "# and xi_phi for phi.\n",
    "rc = 100.0\n",
    "r = #FIXME\n",
    "theta = #FIXME\n",
    "phi = #FIXME"
   ]
  },
  {
   "cell_type": "markdown",
   "metadata": {},
   "source": [
    "To turn these into 3D particle positions, we will transform them into Cartesian coordinates and create a ``pynbody`` snapshot to hold them, so we can use its fancy plotting routines that can automatically create density profiles."
   ]
  },
  {
   "cell_type": "code",
   "execution_count": null,
   "metadata": {},
   "outputs": [],
   "source": [
    "# Transform to Cartesian coordinates. Note that this uses the convention that the polar\n",
    "# angle theta runs from 0 to pi, so the volume element is r^2 sin(theta) dr dtheta dphi\n",
    "x = r * np.sin(theta) * np.cos(phi)\n",
    "y = r * np.sin(theta) * np.sin(phi)\n",
    "z = r * np.cos(theta)\n",
    "# This will create a pynbody snapshot containing these particles, so we can use\n",
    "# the analysis routines built into pynbody, such as to calculate density profiles.\n",
    "sim = pyn.new(N)\n",
    "# Set positions\n",
    "sim['pos'] = pyn.array.SimArray([x,y,z]).T\n",
    "# We need masses. Set to an array of ones.\n",
    "sim['mass'] = pyn.array.SimArray(np.ones(N))"
   ]
  },
  {
   "cell_type": "code",
   "execution_count": null,
   "metadata": {},
   "outputs": [],
   "source": [
    "# Create a Profile object that we can use to automatically calculate density profiles.\n",
    "# ndim=3 means use spherical shells and calculate 3D density.\n",
    "# Once we've done this, we can access many different quantities in radial bins. The radius of the bins are\n",
    "# given by prof['rbins'], the densities in prof['density'], etc. See the pynbody\n",
    "# documentation online for a full list of quantities.\n",
    "prof = pyn.analysis.profile.Profile(sim, ndim=3)"
   ]
  },
  {
   "cell_type": "markdown",
   "metadata": {},
   "source": [
    "Plot the particle distribution in the three Cartesian projections."
   ]
  },
  {
   "cell_type": "code",
   "execution_count": null,
   "metadata": {},
   "outputs": [],
   "source": [
    "# FIXME: Change this to zoom in or out, especially when you change rc.\n",
    "panelsize = 300.0"
   ]
  },
  {
   "cell_type": "code",
   "execution_count": null,
   "metadata": {},
   "outputs": [],
   "source": [
    "plt.figure(figsize=(8,8))\n",
    "ax_xz = plt.subplot(221, aspect=1.0)\n",
    "ax_xy = plt.subplot(223, aspect=1.0)\n",
    "ax_yz = plt.subplot(222, aspect=1.0)\n",
    "# x vs y scatter plot\n",
    "ax_xy.scatter(x, y, color='black', s=0.2)\n",
    "ax_xy.set_xlabel('x')\n",
    "ax_xy.set_ylabel('y')\n",
    "ax_xy.set_xlim(-panelsize, panelsize)\n",
    "ax_xy.set_ylim(-panelsize, panelsize)\n",
    "# x vs z scatter plot\n",
    "ax_xz.scatter(x, z, color='black', s=0.2)\n",
    "ax_xz.set_xlabel('x')\n",
    "ax_xz.set_ylabel('z')\n",
    "ax_xz.set_xlim(-panelsize, panelsize)\n",
    "ax_xz.set_ylim(-panelsize, panelsize)\n",
    "# y vs z scatter plot\n",
    "ax_yz.scatter(y, z, color='black', s=0.2)\n",
    "ax_yz.set_xlabel('y')\n",
    "ax_yz.set_ylabel('z')\n",
    "ax_yz.set_xlim(-panelsize, panelsize)\n",
    "ax_yz.set_ylim(-panelsize, panelsize)\n",
    "# FIXME: Change this to change file name\n",
    "plt.savefig('exp2-D-particles.pdf')"
   ]
  },
  {
   "cell_type": "markdown",
   "metadata": {},
   "source": [
    "Also plot the radial density profile."
   ]
  },
  {
   "cell_type": "code",
   "execution_count": null,
   "metadata": {},
   "outputs": [],
   "source": [
    "# radial density profile\n",
    "ax_dens = plt.subplot(111)\n",
    "ax_dens.plot(prof['rbins'], prof['density'])\n",
    "ax_dens.set_xlabel('r')\n",
    "ax_dens.set_ylabel('$\\\\rho$')\n",
    "# Set logarithmic axes\n",
    "ax_dens.set_xscale('log')\n",
    "ax_dens.set_yscale('log')\n",
    "# FIXME: Change this to change file name\n",
    "plt.savefig('exp2-D-density.pdf')"
   ]
  },
  {
   "cell_type": "markdown",
   "metadata": {},
   "source": [
    "Look at these! Do they look like you expect? How does the density behave at small radius -- does it have the correct logarithmic slope? How does the density behave at large radius?"
   ]
  },
  {
   "cell_type": "markdown",
   "metadata": {},
   "source": [
    "## 6. Investigate the parameters and implementation\n",
    "\n",
    "First, try changing the value of $r_c$ (note that you might need to change the ``panelsize`` variable to see what's going on). How does the particle distribution change? How does the density profile change? What is the physical meaning of $r_c$?"
   ]
  },
  {
   "cell_type": "markdown",
   "metadata": {},
   "source": [
    "Now, I want to draw your attention to the fact that we used three separate random deviates in the code, one for each spherical coordinate. Why? Try changing it so that you use the same random deviate for all three variables (i.e. use ``xi_r`` in all three transformations). What happens to the particle distribution? What happens to the density distribution? Why?"
   ]
  },
  {
   "cell_type": "markdown",
   "metadata": {},
   "source": [
    "## 7. Axisymmetric disk density distribution\n",
    "\n",
    "Create an axisymmetric density distribution corresponding to a disk whose density is exponential in both radius and height (this is a good approximation to a galactic disk!):\n",
    "\n",
    "$$ \\rho(R,z) \\propto e^{-R/R_s} \\, e^{-|z|/z_h} $$\n",
    "\n",
    "Determine the appropriate pdfs for the 3 cylindrical coordinates $P(R)$, $P(\\phi)$, and $P(z)$, and the transformations. Start off with $R_s=2.0$ and $z_h=0.2$ (called ``Rscale`` and ``zscale`` in the code).\n",
    "\n",
    "For the $R$ distribution, you will need to use interpolation. Think carefully about the range over which you create your interpolation function. Be prepared to discuss your choice.\n",
    "\n",
    "For the $z$ distribution, you will find it easiest to do it in two steps: first create a random distribution in $|z|$, and then multiply that by a random variable that is equally likely to be +1 or -1 (hint: ``xi_zplusminus`` as defined in the code gives you a random deviate that's equally likely to be positive or negative, so you just need to figure out how to make that +1 or -1).\n",
    "\n",
    "**FIXME:** Implement your transformations here."
   ]
  },
  {
   "cell_type": "code",
   "execution_count": null,
   "metadata": {},
   "outputs": [],
   "source": [
    "# Generate an axisymmetric density distribution with 5000 points\n",
    "N = 5000\n",
    "# Use 4 random deviates, one for each cylindrical coordinate plus an extra one\n",
    "# to signify whether z ends up positive or negative.\n",
    "xi_R = random(N)\n",
    "xi_phi = random(N)\n",
    "xi_absz = random(N)\n",
    "xi_zplusminus = random(N)-0.5\n",
    "\n",
    "# FIXME: Transform them to find R, phi, and z. Use xi_R for R, xi_phi for phi,\n",
    "# and xi_absz and xi_zplusminus for z.\n",
    "Rscale = 2.0\n",
    "zscale = 0.2\n",
    "R = # FIXME\n",
    "phi = # FIXME\n",
    "z = # FIXME"
   ]
  },
  {
   "cell_type": "markdown",
   "metadata": {},
   "source": [
    "To visualize them we again need to transform to Cartesian coordinates and place them in a ``pynbody`` snapshot."
   ]
  },
  {
   "cell_type": "code",
   "execution_count": null,
   "metadata": {},
   "outputs": [],
   "source": [
    "# Transform to Cartesian coordinates.\n",
    "x = R * np.cos(phi)\n",
    "y = R * np.sin(phi)\n",
    "z = z  # redundant but left in for symmetry\n",
    "# This will create a pynbody snapshot containing these particles, so we can use\n",
    "# the analysis routines built into pynbody, such as to calculate density profiles.\n",
    "sim = pyn.new(N)\n",
    "# Set positions\n",
    "sim['pos'] = pyn.array.SimArray([x,y,z]).T\n",
    "# We need masses. Set to an array of ones.\n",
    "sim['mass'] = pyn.array.SimArray(np.ones(N))\n",
    "# Create a Profile object that we can use to automatically calculate density profiles.\n",
    "# ndim=2 means use cylinders and calculate 2D surface density.\n",
    "# Once we've done this, we can access many different quantities in bins of radius.\n",
    "# The radius of the bins are given by prof['rbins'], the densities in prof['density'], etc.\n",
    "# See the pynbody documentation online for a full list of quantities.\n",
    "prof = pyn.analysis.profile.Profile(sim, ndim=2)\n",
    "# Create a vertical profile to access the quantities as a function of height.\n",
    "# The three numbers are the minimum radius to include, the maximum radius to include,\n",
    "# and the maximum height to go to.\n",
    "# Somewhat confusingly, access the z coordinate of the profile using vertprof['rbins'].\n",
    "vertprof = pyn.analysis.profile.VerticalProfile(sim, 0., 6.*Rscale, 6.*zscale)"
   ]
  },
  {
   "cell_type": "markdown",
   "metadata": {},
   "source": [
    "Plot the particle distributions in the three Cartesian projections."
   ]
  },
  {
   "cell_type": "code",
   "execution_count": null,
   "metadata": {},
   "outputs": [],
   "source": [
    "# FIXME: Change this to zoom in or out.\n",
    "panelsize = 15.0\n",
    "\n",
    "# Plot xy, xz, and yz scatter plots, along with density profiles.\n",
    "# Use aspect=1.0 for positions to make sure squares stay square.\n",
    "plt.figure(figsize=(11,4))\n",
    "ax_xy = plt.subplot(131, aspect=1.0)\n",
    "ax_xz = plt.subplot(132, aspect=1.0)\n",
    "ax_yz = plt.subplot(133, aspect=1.0)\n",
    "# x vs y scatter plot\n",
    "ax_xy.scatter(x, y, color='black', s=0.2)\n",
    "ax_xy.set_xlabel('x')\n",
    "ax_xy.set_ylabel('y')\n",
    "ax_xy.set_xlim(-panelsize, panelsize)\n",
    "ax_xy.set_ylim(-panelsize, panelsize)\n",
    "# x vs z scatter plot\n",
    "ax_xz.scatter(x, z, color='black', s=0.2)\n",
    "ax_xz.set_xlabel('x')\n",
    "ax_xz.set_ylabel('z')\n",
    "ax_xz.set_xlim(-panelsize, panelsize)\n",
    "ax_xz.set_ylim(-panelsize, 0.2*panelsize)\n",
    "# y vs z scatter plot\n",
    "ax_yz.scatter(y, z, color='black', s=0.2)\n",
    "ax_yz.set_xlabel('y')\n",
    "ax_yz.set_ylabel('z')\n",
    "ax_yz.set_xlim(-panelsize, panelsize)\n",
    "ax_yz.set_ylim(-0.2*panelsize, 0.2*panelsize)\n",
    "\n",
    "# FIXME: Change this to change the file name\n",
    "plt.savefig('exp2-F-particles.pdf')"
   ]
  },
  {
   "cell_type": "markdown",
   "metadata": {},
   "source": [
    "Plot the radial surface density profile and the vertical density profile."
   ]
  },
  {
   "cell_type": "code",
   "execution_count": null,
   "metadata": {},
   "outputs": [],
   "source": [
    "fig = plt.figure(figsize=(8,3))\n",
    "ax_raddens = fig.add_subplot(121)\n",
    "ax_vertdens = fig.add_subplot(122)\n",
    "\n",
    "# radial density profile\n",
    "ax_raddens.plot(prof['rbins'], prof['density'])\n",
    "ax_raddens.set_xlabel('R')\n",
    "ax_raddens.set_ylabel('$\\\\Sigma$')\n",
    "# Set logarithmic axis\n",
    "ax_raddens.set_yscale('log')\n",
    "# vertical density profile\n",
    "ax_vertdens.plot(vertprof['rbins'], vertprof['density'])\n",
    "ax_vertdens.set_xlabel('z')\n",
    "ax_vertdens.set_ylabel('$\\\\rho$')\n",
    "# Set logarithmic axis\n",
    "ax_vertdens.set_yscale('log')\n",
    "# FIXME: Change this to change file name\n",
    "plt.savefig('exp2-F-profiles.pdf')"
   ]
  },
  {
   "cell_type": "markdown",
   "metadata": {},
   "source": [
    "Look at them! Do the density profiles have the correct behavior? How far out do you go in radius before you run out of particles? How about in height?"
   ]
  },
  {
   "cell_type": "markdown",
   "metadata": {},
   "source": [
    "Change $R_s$ and/or $z_h$. How does the particle distribution change? How do the density profiles change? What is the physical meaning of those parameters?"
   ]
  },
  {
   "cell_type": "markdown",
   "metadata": {},
   "source": [
    "## 8. Do something interesting\n",
    "\n",
    "Create some different spherically-symmetric or axisymmetric density distribution and make the same plots as Part 5 or Part 7. Feel free to try density profiles that are not physically realistic!"
   ]
  },
  {
   "cell_type": "markdown",
   "metadata": {},
   "source": [
    "**Everyone please bring your plots**, not just the discussion leader!"
   ]
  },
  {
   "cell_type": "code",
   "execution_count": null,
   "metadata": {},
   "outputs": [],
   "source": []
  }
 ],
 "metadata": {
  "kernelspec": {
   "display_name": "Python 3 (ipykernel)",
   "language": "python",
   "name": "python3"
  },
  "language_info": {
   "codemirror_mode": {
    "name": "ipython",
    "version": 3
   },
   "file_extension": ".py",
   "mimetype": "text/x-python",
   "name": "python",
   "nbconvert_exporter": "python",
   "pygments_lexer": "ipython3",
   "version": "3.10.9"
  }
 },
 "nbformat": 4,
 "nbformat_minor": 2
}
