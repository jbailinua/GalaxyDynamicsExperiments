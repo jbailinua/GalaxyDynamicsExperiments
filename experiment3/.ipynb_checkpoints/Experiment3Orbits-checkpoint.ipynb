{
 "cells": [
  {
   "cell_type": "markdown",
   "metadata": {},
   "source": [
    "# Computational Experiment 3: Orbits\n",
    "\n",
    "In this experiment, you will integrate orbits in a variety of potentials and analyze their properties.\n",
    "\n",
    "Before you begin, **make sure to read through the full notebook and understand what each function does**. Pay special attention to anything that has a **FIXME** note, which you will need to edit. Also, in addition to all of the packages from Experiments 1 and 2, install ``ffmpeg`` from [here](https://ffmpeg.org/download.html) so that you can save your movies.\n",
    "\n",
    "**NOTE:** In order to take full advantage of the 3D plots and animations here, we will use the ``%matplotlib notebook`` pragma. Which is great, but has one major gotcha: after you have looked at a plot, you **must** click the power button next to the \"Figure 1\" title bar. If you don't, then your future plots will not end up where you expect them. If you execute a cell that should produce a plot, and it seems like the cell has finished but there is no plot, you will need to scroll through the notebook to find the unclosed plot."
   ]
  },
  {
   "cell_type": "markdown",
   "metadata": {},
   "source": [
    "## 0. Import packages"
   ]
  },
  {
   "cell_type": "code",
   "execution_count": null,
   "metadata": {},
   "outputs": [],
   "source": [
    "import matplotlib.pyplot as plt\n",
    "from mpl_toolkits.mplot3d import Axes3D\n",
    "import numpy as np\n",
    "from galpy import potential\n",
    "from galpy.orbit import Orbit\n",
    "from galpy.util import coords\n",
    "from astropy import units as u, constants as const\n",
    "from matplotlib import animation\n",
    "from matplotlib.animation import FuncAnimation\n",
    "from numpy.random import random\n",
    "import pynbody as pyn\n",
    "from scipy import special\n",
    "from IPython import display"
   ]
  },
  {
   "cell_type": "code",
   "execution_count": null,
   "metadata": {},
   "outputs": [],
   "source": [
    "%matplotlib notebook"
   ]
  },
  {
   "cell_type": "markdown",
   "metadata": {},
   "source": [
    "## 1. Create a disk potential\n",
    "\n",
    "To start off create the potential of a double-exponential disk corresponding to\n",
    "$$ \\rho(r) = \\rho_0 e^{-R/R_s} e^{-\\left|z\\right| / h_z} $$\n",
    "where $R_s$ is the scale length and $h_z$ is the scale height. We will actually use the ``MN3ExponentialDiskPotential`` class in ``galpy`` to do this because it is a very good approximation and is faster to calculate."
   ]
  },
  {
   "cell_type": "markdown",
   "metadata": {},
   "source": [
    "**Note about units:** In previous experiments, we have been using ``galpy``'s \"natural\" units system. From now on, we will work in physically-meaningful units. It is worth reading the [galpy documentation on units](https://docs.galpy.org/en/v1.7.0/getting_started.html#units-in-galpy). The short version is that if we give ``galpy`` input using ``astropy``'s Quantity class (usually by taking a value and multiplying by a unit; for example to set the variable ``a`` to the value 1.5 kpc, we might use ``a = 1.5 * u.kpc``), then ``galpy`` will keep track of units appropriately. *However*, it will output raw numbers not Quantities *unless you edit the .galpyrc configuration file*. I have provided a configuration file along with the notebook that sets option for it to *also* use units in its output; make sure to put it in the same directory as the notebook."
   ]
  },
  {
   "cell_type": "markdown",
   "metadata": {},
   "source": [
    "**FIXME:** Read the documentation for the ``MN3ExponentialDiskPotential`` initialization [here](https://docs.galpy.org/en/v1.9.0/reference/potential3mn.html), and then use it to create a potential for a disk that has a total mass of $1 \\times 10^{10}~M_{\\odot}$, a scale length of 2 kpc, and a scale height of 0.3 kpc. You will probably find it easiest to first calculate the central surface density $\\Sigma_0 = M / (\\pi R_s^2)$ and then divide by the full height, i.e. $\\rho_0 = \\Sigma_0 / (2 h_z)$."
   ]
  },
  {
   "cell_type": "code",
   "execution_count": null,
   "metadata": {},
   "outputs": [],
   "source": [
    "## FIXME: Create a disk potential\n",
    "# Define the parameters\n",
    "# Useful astropy units: u.Msun, u.kpc, u.pc. You can create composite units by multiplying and dividing them.\n",
    "diskmass = #FIXME\n",
    "Rs = #FIXME\n",
    "zh = #FIXME\n",
    "disksurfdens0 = #FIXME\n",
    "diskrho0 = #FIXME\n",
    "\n",
    "# Create the potential object\n",
    "diskpotential = potential.MN3ExponentialDiskPotential(#FIXME..."
   ]
  },
  {
   "cell_type": "markdown",
   "metadata": {},
   "source": [
    "Now look at a face-down and edge-on projection of the densities."
   ]
  },
  {
   "cell_type": "code",
   "execution_count": null,
   "metadata": {},
   "outputs": [],
   "source": [
    "diskpotential.plotSurfaceDensity()"
   ]
  },
  {
   "cell_type": "code",
   "execution_count": null,
   "metadata": {},
   "outputs": [],
   "source": [
    "diskpotential.plotDensity()"
   ]
  },
  {
   "cell_type": "markdown",
   "metadata": {},
   "source": [
    "Look at them! Do they look like you expect?\n",
    "\n",
    "**FIXME:** Now let's look at the rotation curve and compare it to the rotation curve derived in BT equation (2.165). The Bessel functions $I_v(x)$ and $K_v(x)$ are in the ``scipy.special`` module as ``special.iv(v,x)`` and ``special.kv(v,x)`` respectively. We have imported ``astropy`` constants as ``const``, so you can access things like ``const.G``."
   ]
  },
  {
   "cell_type": "code",
   "execution_count": null,
   "metadata": {},
   "outputs": [],
   "source": [
    "# Create a set of radial points at which to calculate values we want to plot.\n",
    "rax = np.arange(0,40,0.1) * u.kpc\n",
    "\n",
    "# FIXME: Calculate BT equation (2.165)\n",
    "y = 0.5 * rax / Rs\n",
    "vc_BT = #FIXME"
   ]
  },
  {
   "cell_type": "code",
   "execution_count": null,
   "metadata": {},
   "outputs": [],
   "source": [
    "# Use galpy's rotation curve plotter\n",
    "diskpotential.plotRotcurve(label='galpy MN3')\n",
    "# Overplot derived vc\n",
    "plt.plot(rax.to(u.kpc).value, vc_BT.to(u.km/u.s).value, '--', label='BT eq')\n",
    "plt.legend(loc='best')"
   ]
  },
  {
   "cell_type": "markdown",
   "metadata": {},
   "source": [
    "Look at these! Do they look like you would expect? How good is the MN3 approximation? At what radius does the rotation curve peak? How does that relate to the value of $R_s$?"
   ]
  },
  {
   "cell_type": "markdown",
   "metadata": {},
   "source": [
    "## 2. Circular orbit\n",
    "\n",
    "Now let's set up what should be a circular orbit. We will place a test particle at a radius of 6 kpc, use the rotation curve to tell us what its tangential velocity should be, and integrate it in the disk potential."
   ]
  },
  {
   "cell_type": "code",
   "execution_count": null,
   "metadata": {},
   "outputs": [],
   "source": [
    "# Set up the initial conditions of the orbit. Note that we need to add appropriate units to the numbers\n",
    "# that come out of galpy's vcirc() function.\n",
    "# Initial radius\n",
    "R0 = 6.0 * u.kpc\n",
    "# Initial tangential velocity. Use the potential.vcirc() function to get the value from the rotation curve.\n",
    "vT0 = diskpotential.vcirc(R0)\n",
    "# Initial radial velocity\n",
    "vR0 = 0.0 * u.km/u.s\n",
    "# Initial height\n",
    "z0 = 0.0 * u.kpc\n",
    "# Initial vertical velocity\n",
    "vz0 = 0.0 * u.km/u.s\n",
    "# Initial orbital phase\n",
    "phi0 = 0.0 * u.rad"
   ]
  },
  {
   "cell_type": "code",
   "execution_count": null,
   "metadata": {},
   "outputs": [],
   "source": [
    "# Initialize an Orbit object. The parameters always go in the order R0, vR0, vT0, z0, vz0, phi0.\n",
    "orb_circ = Orbit([R0, vR0, vT0, z0, vz0, phi0])\n",
    "# Find out its z angular momentum\n",
    "Lz_circ = orb_circ.Lz()"
   ]
  },
  {
   "cell_type": "code",
   "execution_count": null,
   "metadata": {},
   "outputs": [],
   "source": [
    "# Set up the times at which we want to know the orbit properties\n",
    "dt = 0.005\n",
    "tottime = 1.0\n",
    "times = np.arange(0, tottime, dt) * u.Gyr\n",
    "Ntimes = len(times)"
   ]
  },
  {
   "cell_type": "markdown",
   "metadata": {},
   "source": [
    "Integrate the orbit in the disk potential, outputting at the times given."
   ]
  },
  {
   "cell_type": "code",
   "execution_count": null,
   "metadata": {},
   "outputs": [],
   "source": [
    "orb_circ.integrate(times, diskpotential)"
   ]
  },
  {
   "cell_type": "markdown",
   "metadata": {},
   "source": [
    "Plot various projections of this orbit."
   ]
  },
  {
   "cell_type": "code",
   "execution_count": null,
   "metadata": {},
   "outputs": [],
   "source": [
    "# Define colors\n",
    "circ_color = 'blue'\n",
    "noncirc_color = 'green'\n",
    "bobbing_color = 'red'\n",
    "osc_color = 'gray'"
   ]
  },
  {
   "cell_type": "code",
   "execution_count": null,
   "metadata": {},
   "outputs": [],
   "source": [
    "# Create a 2x2 panel plot\n",
    "fig = plt.figure(figsize=(8,8))\n",
    "xy_ax = fig.add_subplot(221, aspect=1.0)  # aspect=1.0 forces the two axes to be directly comparable\n",
    "rt_ax = fig.add_subplot(222)\n",
    "zt_ax = fig.add_subplot(223)\n",
    "merid_ax = fig.add_subplot(224)\n",
    "\n",
    "xcirc = orb_circ.x(times)\n",
    "ycirc = orb_circ.y(times)\n",
    "zcirc = orb_circ.z(times)\n",
    "Rcirc = orb_circ.R(times)\n",
    "\n",
    "\n",
    "# Plot x vs. y\n",
    "xy_ax.plot(xcirc, ycirc, color=circ_color, label='Circular')\n",
    "xy_ax.set_xlabel('x ({0})'.format(str(xcirc.unit)))\n",
    "xy_ax.set_ylabel('y ({0})'.format(str(ycirc.unit)))\n",
    "xy_ax.legend(loc='best')\n",
    "\n",
    "# Plot R vs. t\n",
    "rt_ax.plot(times, Rcirc, color=circ_color, label='Circular')\n",
    "rt_ax.set_ylim(0,7)  # Otherwise it will zoom in on tiny differences\n",
    "rt_ax.set_xlabel('t ({0})'.format(str(times.unit)))\n",
    "rt_ax.set_ylabel('R ({0})'.format(str(Rcirc.unit)))\n",
    "rt_ax.legend(loc='best')\n",
    "\n",
    "# Plot z vs. t\n",
    "zt_ax.plot(times, zcirc, color=circ_color, label='Circular')\n",
    "zt_ax.set_xlabel('t ({0})'.format(str(times.unit)))\n",
    "zt_ax.set_ylabel('z ({0})'.format(str(zcirc.unit)))\n",
    "zt_ax.legend(loc='best')\n",
    "\n",
    "# Meridional plane\n",
    "Rgrid, zgrid = np.meshgrid(np.arange(4,8,0.05), np.arange(-0.5,0.5,0.05)) * u.kpc\n",
    "disk_effpotmap = potential.evaluatePotentials(diskpotential, Rgrid, zgrid) \\\n",
    "    + 0.5*Lz_circ**2 / Rgrid**2\n",
    "phi_eff_levels = np.linspace(np.min(disk_effpotmap)-5e2*(u.km/u.s)**2, np.max(disk_effpotmap), 15)\n",
    "\n",
    "merid_ax.contour(Rgrid, zgrid, disk_effpotmap.value, levels=phi_eff_levels)\n",
    "merid_ax.plot(Rcirc, zcirc, 'o', color=circ_color, label='Circular')\n",
    "merid_ax.set_xlabel('R ({0})'.format(str(Rcirc.unit)))\n",
    "merid_ax.set_ylabel('z ({0})'.format(str(zcirc.unit)))\n",
    "merid_ax.legend(loc='best')\n",
    "\n",
    "# FIXME: Edit this to change filename.\n",
    "plt.savefig('circorbit-plots.png')"
   ]
  },
  {
   "cell_type": "code",
   "execution_count": null,
   "metadata": {},
   "outputs": [],
   "source": [
    "# Create a 3D plot\n",
    "fig = plt.figure()\n",
    "ax = fig.add_subplot(111, projection='3d')\n",
    "ax.plot(xcirc, ycirc, zcirc)\n",
    "ax.set_xlabel('x ({0})'.format(str(xcirc.unit)))\n",
    "ax.set_ylabel('y ({0})'.format(str(ycirc.unit)))\n",
    "ax.set_zlabel('z ({0})'.format(str(zcirc.unit)))\n",
    "\n",
    "# FIXME: Edit this to change filename.\n",
    "plt.savefig('circorbit-3d.png')"
   ]
  },
  {
   "cell_type": "markdown",
   "metadata": {},
   "source": [
    "Look at them! Drag the 3D plot around and look at it from different angles."
   ]
  },
  {
   "cell_type": "markdown",
   "metadata": {},
   "source": [
    "## 2. Non-circular and bobbing orbits"
   ]
  },
  {
   "cell_type": "markdown",
   "metadata": {},
   "source": [
    "Now let's add an orbit that oscillates in radius and one vertically."
   ]
  },
  {
   "cell_type": "code",
   "execution_count": null,
   "metadata": {},
   "outputs": [],
   "source": [
    "# FIXME: Change these to change the magnitude of the perturbations.\n",
    "# Vertical oscillation delta-v\n",
    "dvz = 5. * u.km/u.s\n",
    "# Radial oscillation delta-v\n",
    "dvR = 5. * u.km/u.s"
   ]
  },
  {
   "cell_type": "code",
   "execution_count": null,
   "metadata": {},
   "outputs": [],
   "source": [
    "# Initialize Orbit objects for all oscillating orbits\n",
    "orb_noncirc = Orbit([R0, vR0+dvR, vT0, z0, vz0, phi0])\n",
    "orb_bobbing = Orbit([R0, vR0, vT0, z0, vz0+dvz, phi0])"
   ]
  },
  {
   "cell_type": "markdown",
   "metadata": {},
   "source": [
    "Integrate the orbits."
   ]
  },
  {
   "cell_type": "code",
   "execution_count": null,
   "metadata": {},
   "outputs": [],
   "source": [
    "orb_noncirc.integrate(times, diskpotential)\n",
    "orb_bobbing.integrate(times, diskpotential)"
   ]
  },
  {
   "cell_type": "markdown",
   "metadata": {},
   "source": [
    "Plot them!"
   ]
  },
  {
   "cell_type": "code",
   "execution_count": null,
   "metadata": {},
   "outputs": [],
   "source": [
    "# Create a 2x2 panel plot\n",
    "fig = plt.figure(figsize=(8,8))\n",
    "xy_ax = fig.add_subplot(221, aspect=1.0)\n",
    "rt_ax = fig.add_subplot(222)\n",
    "zt_ax = fig.add_subplot(223)\n",
    "merid_ax = fig.add_subplot(224)\n",
    "\n",
    "# Plot x vs. y\n",
    "xy_ax.plot(xcirc, ycirc, color=circ_color, label='Circular')\n",
    "xy_ax.plot(orb_noncirc.x(times), orb_noncirc.y(times), color=noncirc_color, label='Non-Circular')\n",
    "xy_ax.plot(orb_bobbing.x(times), orb_bobbing.y(times), color=bobbing_color, label='Bobbing')\n",
    "xy_ax.set_xlabel('x ({0})'.format(str(xcirc.unit)))\n",
    "xy_ax.set_ylabel('y ({0})'.format(str(ycirc.unit)))\n",
    "xy_ax.legend(loc='best')\n",
    "\n",
    "# Plot R vs. t\n",
    "rt_ax.plot(times, Rcirc, color=circ_color, label='Circular')\n",
    "rt_ax.plot(times, orb_noncirc.R(times), color=noncirc_color, label='Non-Circular')\n",
    "rt_ax.plot(times, orb_bobbing.R(times), color=bobbing_color, label='Bobbing')\n",
    "rt_ax.set_ylim(0,7)  # Otherwise it will zoom in on tiny differences\n",
    "rt_ax.set_xlabel('t ({0})'.format(str(times.unit)))\n",
    "rt_ax.set_ylabel('R ({0})'.format(str(Rcirc.unit)))\n",
    "rt_ax.legend(loc='best')\n",
    "\n",
    "# Plot z vs. t\n",
    "zt_ax.plot(times, zcirc, color=circ_color, label='Circular')\n",
    "zt_ax.plot(times, orb_noncirc.z(times), color=noncirc_color, label='Non-Circular')\n",
    "zt_ax.plot(times, orb_bobbing.z(times), color=bobbing_color, label='Bobbing')\n",
    "zt_ax.set_xlabel('t ({0})'.format(str(times.unit)))\n",
    "zt_ax.set_ylabel('z ({0})'.format(str(zcirc.unit)))\n",
    "zt_ax.legend(loc='best')\n",
    "\n",
    "merid_ax.plot(Rcirc, zcirc, 'o', color=circ_color, label='Circular')\n",
    "merid_ax.plot(orb_noncirc.R(times), orb_noncirc.z(times), color=noncirc_color, label='Non-Circular')\n",
    "merid_ax.plot(orb_bobbing.R(times), orb_bobbing.z(times), color=bobbing_color, label='Bobbing')\n",
    "potential.plotPotentials(diskpotential, rmax=1.5*R0, effective=True, Lz=Lz_circ, overplot=True)\n",
    "merid_ax.set_xlabel('R ({0})'.format(str(Rcirc.unit)))\n",
    "merid_ax.set_ylabel('z ({0})'.format(str(zcirc.unit)))\n",
    "merid_ax.legend(loc='best')\n",
    "\n",
    "# FIXME: Edit this to change filename.\n",
    "plt.savefig('oscorbit-plots.png')"
   ]
  },
  {
   "cell_type": "markdown",
   "metadata": {},
   "source": [
    "Look at them! Before you turn off the interactivity with the power button, use the cursor to figure out the frequency of the radial oscillations and the vertical oscillations.\n",
    "\n",
    "3D plots:"
   ]
  },
  {
   "cell_type": "code",
   "execution_count": null,
   "metadata": {},
   "outputs": [],
   "source": [
    "# Create a 3D plot\n",
    "fig = plt.figure()\n",
    "ax = fig.add_subplot(111, projection='3d')\n",
    "ax.plot(xcirc, ycirc, zcirc, color=circ_color)\n",
    "ax.plot(orb_noncirc.x(times), orb_noncirc.y(times), orb_noncirc.z(times), color=noncirc_color)\n",
    "ax.plot(orb_bobbing.x(times), orb_bobbing.y(times), orb_bobbing.z(times), color=bobbing_color)\n",
    "ax.set_xlabel('x ({0})'.format(str(xcirc.unit)))\n",
    "ax.set_ylabel('y ({0})'.format(str(ycirc.unit)))\n",
    "ax.set_zlabel('z ({0})'.format(str(zcirc.unit)))\n",
    "\n",
    "# FIXME: Edit this to change filename.\n",
    "plt.savefig('osccorbit-3d.png')"
   ]
  },
  {
   "cell_type": "markdown",
   "metadata": {},
   "source": [
    "What would you expect the frequency of the epicycle to be? What would you expect the frequency of the vertical oscillation to be? What would you expect the orbital frequency to be? You can use galpy's ``epifreq()``, ``verticalfreq()``, and ``omegac()``."
   ]
  },
  {
   "cell_type": "code",
   "execution_count": null,
   "metadata": {},
   "outputs": [],
   "source": [
    "print('Epicyclic frequency: ',diskpotential.epifreq(R0))\n",
    "print('Vertical frequency: ',diskpotential.verticalfreq(R0))\n",
    "print('Orbital frequency: ',diskpotetnai.omegac(R0))"
   ]
  },
  {
   "cell_type": "markdown",
   "metadata": {},
   "source": [
    "Do these match the frequencies you find from looking at the plots? Do they match the vertical frequency you expect based on the mid-plane density $\\rho(R_0, 0)$ and the orbital frequency you expect from the circular velocity $v_c(R_0)$?"
   ]
  },
  {
   "cell_type": "markdown",
   "metadata": {},
   "source": [
    "To get a better look at the epicycle, let's look at the location of the non-circular orbit relative to the circular orbit."
   ]
  },
  {
   "cell_type": "code",
   "execution_count": null,
   "metadata": {},
   "outputs": [],
   "source": [
    "Rnoncirc = orb_noncirc.R(times)\n",
    "\n",
    "diff_phi = orb_noncirc.phi(times) - orb_circ.phi(times)\n",
    "diff_x = Rnoncirc*np.cos(diff_phi)\n",
    "diff_y = Rnoncirc*np.sin(diff_phi)\n",
    "\n",
    "fig = plt.figure()\n",
    "ax = fig.add_subplot(111, aspect=1.0)\n",
    "ax.plot(diff_x, diff_y)\n",
    "ax.plot(R0, 0., 'o')\n",
    "plt.savefig('epicycle.png')"
   ]
  },
  {
   "cell_type": "markdown",
   "metadata": {},
   "source": [
    "Look at this! What is axis ratio of the epicycle? Does it match what you expect from our derivation in class? Do you notice anything else interesting about this plot (and if so, do you have any speculation about what might be causing it)?"
   ]
  },
  {
   "cell_type": "markdown",
   "metadata": {},
   "source": [
    "## 3. Changing parameters of the orbit"
   ]
  },
  {
   "cell_type": "markdown",
   "metadata": {},
   "source": [
    "**FIXME:** Try changing the magnitude of the radial velocity perturbation. Does it change the size of the epicycles? Does it change the epicyclic frequency? Try changing the magnitude of the vertical velocity perturbation. Does it change the size of the vertical bobbing? Does it change the vertical frequency?"
   ]
  },
  {
   "cell_type": "markdown",
   "metadata": {},
   "source": [
    "## 4. A different potential\n",
    "\n",
    "Instead of the double exponential disk potential, let's use the spherical logarithmic potential (see galpy's [LogarithmicHaloPotential](https://docs.galpy.org/en/latest/reference/potentialloghalo.html) class)."
   ]
  },
  {
   "cell_type": "code",
   "execution_count": null,
   "metadata": {},
   "outputs": [],
   "source": [
    "v0 = 150 * u.km/u.s\n",
    "halopotential = potential.LogarithmicHaloPotential(amp=v0**2)"
   ]
  },
  {
   "cell_type": "markdown",
   "metadata": {},
   "source": [
    "**FIXME:** Create and integrate circular and bobbing orbits in this potential. Make sure you use the correct circular velocity for this potential. How do they look different? Why?"
   ]
  },
  {
   "cell_type": "markdown",
   "metadata": {},
   "source": [
    "## 5. Do something interesting\n",
    "\n",
    "**FIXME:** Try modifying something else. For example, you could try to break the epicyclic approximation by making the perturbations very large, or use a different axisymmetric potential, or try to find orbits that have the same energy and $L_z$ but different values of $I_3$, or see if you can figure out what's up with the weird feature in the epicycle map."
   ]
  },
  {
   "cell_type": "markdown",
   "metadata": {},
   "source": [
    "## 6. Rotating bar potential\n",
    "\n",
    "Now we will set up an elongated bar that rotates in time. We will use galpy's [DehnenBarPotential](https://docs.galpy.org/en/latest/reference/potentialdehnenbar.html) class; because it has both positive and negative perturbations, we need to superimpose this on a positive-density distribution; we will use the logarithmic potential for convenience.\n",
    "\n",
    "**FIXME:** First let's set up the parameters of our potential. We will create a logarithmic potential with a velocity scale of 200 km/s, and a bar with a pattern speed of 50 km/s/kpc, an amplitude of 10% of the logarithmic potential, and a radius of 3 kpc."
   ]
  },
  {
   "cell_type": "code",
   "execution_count": null,
   "metadata": {},
   "outputs": [],
   "source": [
    "# Set up parameters of the potentials\n",
    "# Velocity scale of logarithmic potential.\n",
    "v0 = #FIXME\n",
    "# Bar pattern speed\n",
    "Omp = #FIXME\n",
    "# Bar amplitude\n",
    "baramp = 0.1 * v0**2\n",
    "# Bar radius\n",
    "barrad = #FIXME"
   ]
  },
  {
   "cell_type": "code",
   "execution_count": null,
   "metadata": {},
   "outputs": [],
   "source": [
    "halopot = potential.LogarithmicHaloPotential(amp=v0**2)\n",
    "barpot = potential.DehnenBarPotential(Af=baramp, rb=barrad, omegab=Omp, barphi=0.)\n",
    "# Create a new potential object by adding the two.\n",
    "# NOTE: In galpy, when you use + to combine potentials, it actually makes a list.\n",
    "# This makes it a little awkward to use some of the built-in functions: you can't\n",
    "# use the methods of instance directly, but need to use static methods of the potential class.\n",
    "# \"What does that mean?\"\n",
    "# If you've defined galpot as \"galpot = halopot + barpot\" then to find the circular\n",
    "# velocity, you need to use:\n",
    "#   potential.vcirc(galpot, radius)\n",
    "# instead of\n",
    "#   galpot.vcirc(radius)\n",
    "# See the galpy potential API page for more details.\n",
    "galpot = halopot + barpot"
   ]
  },
  {
   "cell_type": "markdown",
   "metadata": {},
   "source": [
    "Plot the rotation curve at different azimuthal angles, and also isopotential contours."
   ]
  },
  {
   "cell_type": "code",
   "execution_count": null,
   "metadata": {},
   "outputs": [],
   "source": [
    "potential.plotRotcurve(galpot, phi=0, label='$\\phi=0$')\n",
    "potential.plotRotcurve(galpot, phi=np.pi/2, label='$\\phi=\\pi/2$', overplot=True)\n",
    "plt.legend(loc='best')"
   ]
  },
  {
   "cell_type": "code",
   "execution_count": null,
   "metadata": {},
   "outputs": [],
   "source": [
    "# Create a grid to calculate the potential on so we can plot contours\n",
    "xgrid, ygrid = np.meshgrid(np.arange(-15,15,0.1), np.arange(-15,15,0.1)) * u.kpc\n",
    "Rgrid, phigrid, zgrid = coords.rect_to_cyl(xgrid, ygrid, 0.*u.kpc)\n",
    "# Calculate potential on that grid\n",
    "potmap= np.array([potential.evaluatePotentials(galpot, R, 0., phi=phi, t=0.) for R,phi in zip(Rgrid, phigrid)])\n",
    "\n",
    "# What levels?\n",
    "contourlevels = np.linspace(-1e5,0.25e5,10)\n",
    "\n",
    "# Plot the contours\n",
    "fig = plt.figure(figsize=(6,6))\n",
    "ax = fig.add_subplot(111, aspect=1.0)\n",
    "ax.contour(xgrid, ygrid, potmap, levels=contourlevels, colors='gray', linestyles='solid')"
   ]
  },
  {
   "cell_type": "markdown",
   "metadata": {},
   "source": [
    "Look at these! How would you describe the overall potential?"
   ]
  },
  {
   "cell_type": "markdown",
   "metadata": {},
   "source": [
    "## 7. Resonances\n",
    "\n",
    "Let's look at where the resonances should be by looking at the orbital and epicyclic frequencies compared to the bar pattern speed. Note that we're going to use the non-bar piece of the potential to figure out what frequencies we'd expect for circular orbits in the absence of the bar."
   ]
  },
  {
   "cell_type": "code",
   "execution_count": null,
   "metadata": {},
   "outputs": [],
   "source": [
    "# Radial axis points\n",
    "Rax = np.arange(0, 20, 0.02)*u.kpc\n",
    "\n",
    "# Frequencies\n",
    "Omega = halopot.omegac(Rax).to(u.km/u.s/u.kpc)\n",
    "kappa = halopot.epifreq(Rax).to(u.km/u.s/u.kpc)\n",
    "\n",
    "# Plot\n",
    "plt.plot(Rax, Omega + 0.5*kappa, label='$\\Omega + \\kappa/2$')\n",
    "plt.plot(Rax, kappa, label='$\\kappa$')\n",
    "plt.plot(Rax, Omega, label='$\\Omega$')\n",
    "plt.plot(Rax, Omega - 0.5*kappa, label='$\\Omega - \\kappa/2$')\n",
    "plt.axhline(y=Omp.to(u.km/u.s/u.kpc).value, color='gray', linestyle='dashed', label='$\\Omega_p$')\n",
    "plt.ylim(0,200)\n",
    "plt.xlabel('R (kpc)')\n",
    "plt.ylabel('Frequency (km/s/kpc)')\n",
    "plt.legend(loc='best')"
   ]
  },
  {
   "cell_type": "markdown",
   "metadata": {},
   "source": [
    "Look at this plot! Use the interactive mode to explore it. At what radius do you expect to see an $m=2$ Inner Lindblad Resonance (ILR)? An $m=2$ Outer Lindblad Resonance (OLR)? Corotation resonance (CR)? Are there only one of each of these or more than one?"
   ]
  },
  {
   "cell_type": "markdown",
   "metadata": {},
   "source": [
    "We can also ask ``galpy`` to figure out where it thinks they are using the ``potential.lindbladR()`` function."
   ]
  },
  {
   "cell_type": "code",
   "execution_count": null,
   "metadata": {},
   "outputs": [],
   "source": [
    "ILR_rad = potential.lindbladR(halopot, Omp, m=2)\n",
    "CR_rad = potential.lindbladR(halopot, Omp, m='corotation')\n",
    "OLR_rad = potential.lindbladR(halopot, Omp, m=-2)\n",
    "\n",
    "print('ILR: ',ILR_rad)\n",
    "print('CR: ',CR_rad)\n",
    "print('OLR: ',OLR_rad)"
   ]
  },
  {
   "cell_type": "markdown",
   "metadata": {},
   "source": [
    "Do they match what you determined?"
   ]
  },
  {
   "cell_type": "markdown",
   "metadata": {},
   "source": [
    "## 8. Integrate some orbits without a bar"
   ]
  },
  {
   "cell_type": "markdown",
   "metadata": {},
   "source": [
    "Let's set up some sample points that should be on circular orbits in the unperturbed potential and see how they evolve. Let's create 5000 points in an axisymmetric thin disk with a constant density profile out to some maximum radius (and zero beyond that):\n",
    "$$ \\Sigma(R) = \\Sigma_0 \\qquad 0 \\le R \\le R_{max} $$\n",
    "for $R_{max}$=12 kpc.\n",
    "\n",
    "**FIXME:** Use what you learned in Experiment 2 to set this up."
   ]
  },
  {
   "cell_type": "code",
   "execution_count": null,
   "metadata": {},
   "outputs": [],
   "source": [
    "Np = 5000\n",
    "xi_R = random(Np)\n",
    "xi_phi = random(Np)\n",
    "Rmax = 12.*u.kpc\n",
    "Rsamp = #FIXME\n",
    "phisamp = #FIXME"
   ]
  },
  {
   "cell_type": "code",
   "execution_count": null,
   "metadata": {},
   "outputs": [],
   "source": [
    "# Calculate the circular velocity for each point.\n",
    "vcsamp = halopot.vcirc(Rsamp)"
   ]
  },
  {
   "cell_type": "markdown",
   "metadata": {},
   "source": [
    "Now we will set up a list of orbit initial conditions like in Part 2."
   ]
  },
  {
   "cell_type": "code",
   "execution_count": null,
   "metadata": {},
   "outputs": [],
   "source": [
    "orbit_ics = [[R, 0.*u.km/u.s, vc, 0.*u.kpc, 0.*u.km/u.s, phi*u.rad] for (R,vc,phi) in zip(Rsamp, vcsamp, phisamp)]"
   ]
  },
  {
   "cell_type": "markdown",
   "metadata": {},
   "source": [
    "We need a list of times at which we want to know the results. Use every 2 Myr for a total of 1 Gyr."
   ]
  },
  {
   "cell_type": "code",
   "execution_count": null,
   "metadata": {},
   "outputs": [],
   "source": [
    "ts = np.arange(0,1000,2.)*u.Myr"
   ]
  },
  {
   "cell_type": "markdown",
   "metadata": {},
   "source": [
    "And then integrate each one! Note that in principle you ought to be able to create a single Orbit instance that contains all of the initial conditions and integrate them together, but your computer will probably run out memory trying to do that, whereas doing them one at a time should work."
   ]
  },
  {
   "cell_type": "code",
   "execution_count": null,
   "metadata": {},
   "outputs": [],
   "source": [
    "orbits_nobar = []\n",
    "for oic in orbit_ics:\n",
    "    this_o = Orbit(oic)\n",
    "    this_o.integrate(ts, halopot)\n",
    "    orbits_nobar.append(this_o)"
   ]
  },
  {
   "cell_type": "markdown",
   "metadata": {},
   "source": [
    "Let's plot what those orbits look like! Only plot 1/10th of them so that you can make them out."
   ]
  },
  {
   "cell_type": "code",
   "execution_count": null,
   "metadata": {},
   "outputs": [],
   "source": [
    "fig = plt.figure(figsize=(6,6))\n",
    "ax = fig.add_subplot(111, aspect=1.0)\n",
    "for index, o in enumerate(orbits_nobar):\n",
    "    # plot 1/10th of them\n",
    "    if (index%10)==0:\n",
    "        ax.plot(o.x(ts), o.y(ts), color='C0', alpha=0.1)\n",
    "ax.set_xlim(-13,13)\n",
    "ax.set_ylim(-13,13)"
   ]
  },
  {
   "cell_type": "markdown",
   "metadata": {},
   "source": [
    "Look at it. Does it look like you'd expect?\n",
    "\n",
    "Now let's create an animation of the particles orbiting. Note that this will run for a while before producing the movie. Once the movie has been generated, you can right-click on it and select \"Save Video As\" (or whatever the equivalent is for your browser) to save it as an MP4 file."
   ]
  },
  {
   "cell_type": "code",
   "execution_count": null,
   "metadata": {},
   "outputs": [],
   "source": [
    "# Create a single numpy array object for all of the x and y positions respectively\n",
    "x_nobar = np.array([o.x(ts) for o in orbits_nobar])\n",
    "y_nobar = np.array([o.y(ts) for o in orbits_nobar])"
   ]
  },
  {
   "cell_type": "code",
   "execution_count": null,
   "metadata": {},
   "outputs": [],
   "source": [
    "fig = plt.figure(figsize=(6,6))\n",
    "ax = fig.add_subplot(111, aspect=1.0)\n",
    "\n",
    "# For the animation, we need to create the initial plot and the structures that will change\n",
    "stars, = ax.plot([],[], '.', ms=1)\n",
    "ax.set_xlim(-13,13)\n",
    "ax.set_ylim(-13,13)\n",
    "\n",
    "# Function that updates each frame\n",
    "def animate(frame):\n",
    "    # Update star positions\n",
    "    stars.set_data((x_nobar[:,frame], y_nobar[:,frame]))\n",
    "    # Update title\n",
    "    ax.set_title('t={0:.0f} Myr'.format(ts[frame].to(u.Myr).value))\n",
    "    return stars\n",
    "\n",
    "anim = FuncAnimation(fig, animate, frames=len(ts), interval=40)\n",
    "\n",
    "video = anim.to_html5_video()\n",
    "html = display.HTML(video)\n",
    "display.display(html)\n",
    "plt.close()"
   ]
  },
  {
   "cell_type": "markdown",
   "metadata": {},
   "source": [
    "Watch the video. How do the particles move?"
   ]
  },
  {
   "cell_type": "markdown",
   "metadata": {},
   "source": [
    "## 9. Integrate some orbits with a bar\n",
    "\n",
    "Let's integrate those same initial conditions in the rotating barred potential."
   ]
  },
  {
   "cell_type": "code",
   "execution_count": null,
   "metadata": {},
   "outputs": [],
   "source": [
    "orbits_bar = []\n",
    "for oic in orbit_ics:\n",
    "    this_o = Orbit(oic)\n",
    "    this_o.integrate(ts, galpot)\n",
    "    orbits_bar.append(this_o)"
   ]
  },
  {
   "cell_type": "code",
   "execution_count": null,
   "metadata": {},
   "outputs": [],
   "source": [
    "fig = plt.figure(figsize=(6,6))\n",
    "ax = fig.add_subplot(111, aspect=1.0)\n",
    "for index, o in enumerate(orbits_bar):\n",
    "    # plot 1/10th of them\n",
    "    if (index%10)==0:\n",
    "        ax.plot(o.x(ts), o.y(ts), color='C0', alpha=0.1)\n",
    "ax.set_xlim(-13,13)\n",
    "ax.set_ylim(-13,13)"
   ]
  },
  {
   "cell_type": "markdown",
   "metadata": {},
   "source": [
    "Look at them. How do these orbits look different from in the unbarred potential?"
   ]
  },
  {
   "cell_type": "markdown",
   "metadata": {},
   "source": [
    "Again, let's make an animation. We'll do side-by-side panels, with the inertial frame on one side and a frame rotating with the bar in the other panel, and show isopotential contours in both cases. Note that this movie will probably take a **long** time to generate because creating the rotating bar isopotential contours for each frame takes a while."
   ]
  },
  {
   "cell_type": "code",
   "execution_count": null,
   "metadata": {},
   "outputs": [],
   "source": [
    "# Create a single numpy array object for all of the x and y positions respectively\n",
    "x_bar = np.array([o.x(ts) for o in orbits_bar])\n",
    "y_bar = np.array([o.y(ts) for o in orbits_bar])\n",
    "\n",
    "# An array that tells us what angle the bar is at each timestep\n",
    "barangles = (Omp * ts).to(1)*u.rad\n",
    "\n",
    "# x and y coordinates in the rotating frame\n",
    "xrot = x_bar*np.cos(barangles) + y_bar*np.sin(barangles)\n",
    "yrot = y_bar*np.cos(barangles) - x_bar*np.sin(barangles)\n",
    "\n",
    "# And a map of the effective potential at t=0\n",
    "# Note that because we can't give phi= an array, we have to basically strip the units out\n",
    "# and then stick them back on again at the end.\n",
    "potmap_initial = np.array([potential.evaluatePotentials(galpot, R, 0., phi=phi, t=0.) for R,phi in zip(Rgrid, phigrid)]) \\\n",
    "    * (u.km/u.s)**2\n",
    "# Turn into effective potential by adding centrifugal term\n",
    "potmap_rotating = potmap_initial - 0.5 * Omp**2 * Rgrid**2"
   ]
  },
  {
   "cell_type": "code",
   "execution_count": null,
   "metadata": {},
   "outputs": [],
   "source": [
    "fig = plt.figure(figsize=(9,6))\n",
    "ax_inertial = fig.add_subplot(121, aspect=1.0)\n",
    "ax_rotating = fig.add_subplot(122, aspect=1.0)\n",
    "\n",
    "contourlevels = np.arange(-2e5, 0.5e5, 0.12e5)\n",
    "\n",
    "# For the animation, we need to create the initial plot and the structures that will change\n",
    "stars_inertial, = ax_inertial.plot([],[], '.', ms=1)\n",
    "stars_rotating, = ax_rotating.plot([],[], '.', ms=1)\n",
    "potcontours = ax_inertial.contour(xgrid, ygrid, potmap_initial, levels=contourlevels, colors='lightgray', linestyles='solid')\n",
    "\n",
    "# Put down the contours in the rotating frame, which won't change\n",
    "rotcontours = ax_rotating.contour(xgrid, ygrid, potmap_rotating, levels=contourlevels, colors='lightgray', linestyles='solid')\n",
    "\n",
    "# Set axis limits\n",
    "ax_inertial.set_xlim(-13,13)\n",
    "ax_inertial.set_ylim(-13,13)\n",
    "ax_rotating.set_xlim(-13,13)\n",
    "ax_rotating.set_ylim(-13,13)\n",
    "\n",
    "# Function that updates each frame\n",
    "def animate(frame):\n",
    "    global potcontours, stars_inertial, stars_rotating\n",
    "    \n",
    "    # Update star positions\n",
    "    stars_inertial.set_data((x_bar[:,frame], y_bar[:,frame]))\n",
    "    stars_rotating.set_data((xrot[:,frame], yrot[:,frame]))\n",
    "    \n",
    "    # Update isopotential contours in inertial frame\n",
    "    potmap_inertial = np.array([potential.evaluatePotentials(galpot, R, 0., phi=phi, t=ts[frame]) for R,phi in zip(Rgrid, phigrid)])\n",
    "    for coll in potcontours.collections:\n",
    "        coll.remove()\n",
    "    potcontours = ax_inertial.contour(xgrid, ygrid, potmap_inertial, levels=contourlevels, colors='lightgray', linestyles='solid')\n",
    "\n",
    "    # Update title\n",
    "    ax_inertial.set_title('t={0:.0f} Myr'.format(ts[frame].to(u.Myr).value))\n",
    "    ax_rotating.set_title('t={0:.0f} Myr'.format(ts[frame].to(u.Myr).value))\n",
    "    return stars_inertial, stars_rotating, potcontours,\n",
    "\n",
    "anim = FuncAnimation(fig, animate, frames=len(ts), interval=40)\n",
    "\n",
    "video = anim.to_html5_video()\n",
    "html = display.HTML(video)\n",
    "display.display(html)\n",
    "plt.close()"
   ]
  },
  {
   "cell_type": "markdown",
   "metadata": {},
   "source": [
    "I recommend watching this *many* times to fully take it in. What did you learn from it? How do the particles move in the inertial frame? How is it different at different radii? How do the particles move relative to the bar? How is it different at different radii?"
   ]
  },
  {
   "cell_type": "markdown",
   "metadata": {},
   "source": [
    "Let's find a particle that orbits in the bar and examine the Jacobi integral. We'll find one whose initial radius is as close as possible to 5 kpc."
   ]
  },
  {
   "cell_type": "code",
   "execution_count": null,
   "metadata": {},
   "outputs": [],
   "source": [
    "# What initial radius do we want to look for?\n",
    "Rinit_search = 5.0 * u.kpc\n",
    "diff_between_R_and_search = np.abs(Rsamp - Rinit_search)\n",
    "# Find which particle number has the smallest value of this difference.\n",
    "particle_i = np.argsort(diff_between_R_and_search)[0]"
   ]
  },
  {
   "cell_type": "code",
   "execution_count": null,
   "metadata": {},
   "outputs": [],
   "source": [
    "# Grab this particle's full orbit\n",
    "xi_pos = orbits_bar[particle_i].x(ts)\n",
    "yi_pos = orbits_bar[particle_i].y(ts)\n",
    "zi_pos = orbits_bar[particle_i].z(ts)\n",
    "vxi = orbits_bar[particle_i].vx(ts)\n",
    "vyi = orbits_bar[particle_i].vy(ts)\n",
    "vzi = orbits_bar[particle_i].vz(ts)\n",
    "vTi = orbits_bar[particle_i].vT(ts)\n",
    "Ri = orbits_bar[particle_i].R(ts)\n",
    "phii = orbits_bar[particle_i].phi(ts)\n",
    "\n",
    "# Calculate the energy, angular momentum, and Jacobi integral\n",
    "# (for some reason, what comes out of Orbit is wrong).\n",
    "Ek_i = 0.5 * (vxi**2 + vyi**2 + vzi**2)\n",
    "pot_i = np.zeros_like(Ek_i)\n",
    "for i in range(len(phii)):\n",
    "    pot_i[i] = potential.evaluatePotentials(galpot, Ri[i], zi_pos[i], phi=phii[i], t=ts[i])\n",
    "energy_i = Ek_i + pot_i\n",
    "\n",
    "Lz_i = vTi * Ri\n",
    "\n",
    "EJ_i = energy_i - Omp*Lz_i"
   ]
  },
  {
   "cell_type": "code",
   "execution_count": null,
   "metadata": {},
   "outputs": [],
   "source": [
    "# Plot each of energy, Lz, and Jacobi in separate panels\n",
    "fig = plt.figure(figsize=(10,4))\n",
    "axE = fig.add_subplot(131)\n",
    "axL = fig.add_subplot(132)\n",
    "axJ = fig.add_subplot(133)\n",
    "\n",
    "Ecolor = 'C0'\n",
    "Jcolor = 'C1'\n",
    "Lcolor = 'C2'\n",
    "\n",
    "# Plot energy vs. time\n",
    "axE.plot(ts.to(u.Myr), energy_i, color=Ecolor, label='$E$')\n",
    "axE.set_xlabel('t (Myr)')\n",
    "axE.set_ylabel('$E$ (km$^2$ / s$^2$)')\n",
    "\n",
    "# Plot Jacobi integral vs. time\n",
    "axJ.plot(ts.to(u.Myr), EJ_i.value, color=Jcolor, label='$E_J$')\n",
    "axJ.set_xlabel('t (Myr)')\n",
    "axJ.set_ylabel('$E_J$ (km$^2$ / s$^2$)')\n",
    "axJ.set_ylim(-6e4,0)\n",
    "\n",
    "# Plot Lz vs. time on other axis\n",
    "axL.plot(ts.to(u.Myr), Lz_i, color=Lcolor, label='$L_z$')\n",
    "axL.set_xlabel('t (Myr)')\n",
    "axL.set_ylabel('$L_z$ (kpc km/s)')\n",
    "axL.set_ylim(0,1200)\n",
    "\n",
    "plt.tight_layout()"
   ]
  },
  {
   "cell_type": "markdown",
   "metadata": {},
   "source": [
    "Look at this. Does it look like you'd expect?\n",
    "\n",
    "**FIXME:** Try finding a particle much closer in, say at 2.5 kpc. Does it look any different? If so, what might be going on?"
   ]
  },
  {
   "cell_type": "markdown",
   "metadata": {},
   "source": [
    "## 10. Analysis of surface densities and resonances\n",
    "\n",
    "Use ``pynbody`` to analyze the surface density profiles and relate it to the locations of the resonances."
   ]
  },
  {
   "cell_type": "code",
   "execution_count": null,
   "metadata": {},
   "outputs": [],
   "source": [
    "# Create a pynbody object to store the final snapshot of the barless simulation\n",
    "nobarsim = pyn.new(Np)\n",
    "nobarsim['pos'] = pyn.array.SimArray([[o.x(ts[-1]).value for o in orbits_nobar], \\\n",
    "                                     [o.y(ts[-1]).value for o in orbits_nobar], \\\n",
    "                                     [o.z(ts[-1]).value for o in orbits_nobar]]).T\n",
    "nobarsim['mass'] = pyn.array.SimArray(np.ones(Np))\n",
    "\n",
    "# Create a pynbody object to store the final snapshot of the barred simulation\n",
    "barsim = pyn.new(Np)\n",
    "barsim['pos'] = pyn.array.SimArray([[o.x(ts[-1]).value for o in orbits_bar], \\\n",
    "                                     [o.y(ts[-1]).value for o in orbits_bar], \\\n",
    "                                     [o.z(ts[-1]).value for o in orbits_bar]]).T\n",
    "barsim['mass'] = pyn.array.SimArray(np.ones(Np))"
   ]
  },
  {
   "cell_type": "code",
   "execution_count": null,
   "metadata": {},
   "outputs": [],
   "source": [
    "# Create 2D Profile objects to study the surface density\n",
    "nobarprof = pyn.analysis.profile.Profile(nobarsim, bins=np.linspace(0,13,40))\n",
    "barprof = pyn.analysis.profile.Profile(barsim, bins=np.linspace(0,13,40))"
   ]
  },
  {
   "cell_type": "code",
   "execution_count": null,
   "metadata": {},
   "outputs": [],
   "source": [
    "# Plot the surface density of the unbarred simulation\n",
    "plt.plot(nobarprof['rbins'], nobarprof['density'])\n",
    "plt.xlabel('r (kpc)')\n",
    "plt.ylabel('$\\\\Sigma$ (arbitrary units)')\n",
    "plt.title('No Bar')"
   ]
  },
  {
   "cell_type": "markdown",
   "metadata": {},
   "source": [
    "Look at it. Does it look like you'd expect?\n",
    "\n",
    "Now let's look at the rotating potential, and overplot the locations of the resonances we found in Part 7."
   ]
  },
  {
   "cell_type": "code",
   "execution_count": null,
   "metadata": {},
   "outputs": [],
   "source": [
    "ILR_color = 'C1'\n",
    "CR_color = 'C2'\n",
    "OLR_color = 'C3'\n",
    "\n",
    "plt.plot(barprof['rbins'], barprof['density'])\n",
    "plt.xlabel('r (kpc)')\n",
    "plt.ylabel('$\\\\Sigma$ (CHECK UNITS)')\n",
    "plt.title('Bar')\n",
    "plt.axvline(x=ILR_rad.value, linestyle='dashed', color=ILR_color, label='ILR')\n",
    "plt.axvline(x=CR_rad.value, linestyle='dashed', color=CR_color, label='CR')\n",
    "plt.axvline(x=OLR_rad.value, linestyle='dashed', color=OLR_color, label='OLR')\n",
    "plt.legend(loc='best')"
   ]
  },
  {
   "cell_type": "markdown",
   "metadata": {},
   "source": [
    "Look at it! How does it compare with the surface density you see at the end of the animation? Of what you see looking at the full orbits (the first plot in Part 9)? What features do you see? How do they relate to how you saw the particles move in the movie? How do they relate to the locations of the resonances?"
   ]
  },
  {
   "cell_type": "markdown",
   "metadata": {},
   "source": [
    "## 11. Vertical motion with a bar\n",
    "\n",
    "So far we've ignored any vertical effects of the bar. In a spherically-symmetric base potential, that's not very interesting, but let's put together a full potential with halo, disk, and bar, and check whether the bar has any effect on the vertical motion."
   ]
  },
  {
   "cell_type": "code",
   "execution_count": null,
   "metadata": {},
   "outputs": [],
   "source": [
    "# Create a halo+disk+bar potential. Use the parameters that we used up until now!\n",
    "halopot = potential.LogarithmicHaloPotential(amp=v0**2)\n",
    "barpot = potential.DehnenBarPotential(Af=baramp, rb=barrad, omegab=Omp, barphi=0.)\n",
    "diskpot = potential.MN3ExponentialDiskPotential(amp=diskrho0, hr=Rs, hz=zh)\n",
    "galpot = halopot + diskpot + barpot"
   ]
  },
  {
   "cell_type": "code",
   "execution_count": null,
   "metadata": {},
   "outputs": [],
   "source": [
    "# Give the orbit initial conditions a little bit of z height.\n",
    "zsamp = 0.2 * (random(Np)-0.5) * u.kpc\n",
    "orbit_ics = [[R, 0.*u.km/u.s, vc, z, 0.*u.km/u.s, phi*u.rad] for (R,vc,phi,z) in zip(Rsamp, vcsamp, phisamp, zsamp)]"
   ]
  },
  {
   "cell_type": "code",
   "execution_count": null,
   "metadata": {},
   "outputs": [],
   "source": [
    "# And integrate them\n",
    "orbits_vert = []\n",
    "for oic in orbit_ics:\n",
    "    this_o = Orbit(oic)\n",
    "    this_o.integrate(ts, galpot)\n",
    "    orbits_vert.append(this_o)"
   ]
  },
  {
   "cell_type": "markdown",
   "metadata": {},
   "source": [
    "Let's see what the orbits look like edge-on."
   ]
  },
  {
   "cell_type": "code",
   "execution_count": null,
   "metadata": {},
   "outputs": [],
   "source": [
    "fig = plt.figure(figsize=(6,6))\n",
    "ax = fig.add_subplot(111, aspect=1.0)\n",
    "for index, o in enumerate(orbits_vert):\n",
    "    # plot 1/10th of them\n",
    "    if (index%10)==0:\n",
    "        ax.plot(o.x(ts), o.z(ts), color='C0', alpha=0.05)\n",
    "ax.set_xlim(-13,13)\n",
    "ax.set_ylim(-13,13)"
   ]
  },
  {
   "cell_type": "markdown",
   "metadata": {},
   "source": [
    "And in 3D."
   ]
  },
  {
   "cell_type": "code",
   "execution_count": null,
   "metadata": {},
   "outputs": [],
   "source": [
    "fig = plt.figure()\n",
    "ax = fig.add_subplot(111, projection='3d')\n",
    "for index, o in enumerate(orbits_vert):\n",
    "    # plot 1/10th of them\n",
    "    if (index%10)==0:\n",
    "        ax.plot(o.x(ts), o.y(ts), o.z(ts), color='C0', alpha=0.1)\n",
    "ax.set_xlim(-12,12)\n",
    "ax.set_ylim(-12,12)\n",
    "ax.set_zlim(-10,10)"
   ]
  },
  {
   "cell_type": "markdown",
   "metadata": {},
   "source": [
    "And a movie!"
   ]
  },
  {
   "cell_type": "code",
   "execution_count": null,
   "metadata": {},
   "outputs": [],
   "source": [
    "# Create a single numpy array object for all of the x and z positions respectively\n",
    "x_vert = np.array([o.x(ts) for o in orbits_vert])\n",
    "z_vert = np.array([o.z(ts) for o in orbits_vert])\n",
    "R_vert = np.array([o.R(ts) for o in orbits_vert])"
   ]
  },
  {
   "cell_type": "code",
   "execution_count": null,
   "metadata": {},
   "outputs": [],
   "source": [
    "fig = plt.figure(figsize=(8,3))\n",
    "ax = fig.add_subplot(111, aspect=1.0)\n",
    "\n",
    "# For the animation, we need to create the initial plot and the structures that will change\n",
    "stars, = ax.plot([],[], '.', ms=1)\n",
    "ax.set_xlim(-13,13)\n",
    "ax.set_ylim(-5,5)\n",
    "\n",
    "# Function that updates each frame\n",
    "def animate(frame):\n",
    "    # Update star positions\n",
    "    stars.set_data((x_vert[:,frame], z_vert[:,frame]))\n",
    "    # Update title\n",
    "    ax.set_title('t={0:.0f} Myr'.format(ts[frame].to(u.Myr).value))\n",
    "    return stars\n",
    "\n",
    "anim = FuncAnimation(fig, animate, frames=len(ts), interval=40)\n",
    "\n",
    "video = anim.to_html5_video()\n",
    "html = display.HTML(video)\n",
    "display.display(html)\n",
    "plt.close()"
   ]
  },
  {
   "cell_type": "markdown",
   "metadata": {},
   "source": [
    "What do they look like? Do they look how you would expect?\n",
    "\n",
    "Let's see what the vertical profile is at different cylindrical radius."
   ]
  },
  {
   "cell_type": "code",
   "execution_count": null,
   "metadata": {},
   "outputs": [],
   "source": [
    "# Create a new simulation object\n",
    "vertsim = pyn.new(Np)\n",
    "vertsim['pos'] = pyn.array.SimArray([[o.x(ts[-1]).value for o in orbits_vert], \\\n",
    "                                     [o.y(ts[-1]).value for o in orbits_vert], \\\n",
    "                                     [o.z(ts[-1]).value for o in orbits_vert]]).T\n",
    "vertsim['mass'] = pyn.array.SimArray(np.ones(Np))"
   ]
  },
  {
   "cell_type": "code",
   "execution_count": null,
   "metadata": {},
   "outputs": [],
   "source": [
    "# Set radial bins to work with\n",
    "dRbin = 1.\n",
    "Rbinmax = 10.\n",
    "zmax = 1.\n",
    "\n",
    "# Create a vertical profile for each radial bin\n",
    "nradbins = int(round(Rbinmax/dRbin))\n",
    "vertprofiles = []\n",
    "for radi in range(nradbins):\n",
    "    Rbin0 = radi*dRbin\n",
    "    Rbin1 = (radi+1)*dRbin\n",
    "    vertprofiles.append(pyn.analysis.profile.VerticalProfile(vertsim, Rbin0, Rbin1, zmax, nbins=15))"
   ]
  },
  {
   "cell_type": "code",
   "execution_count": null,
   "metadata": {},
   "outputs": [],
   "source": [
    "for radi in range(nradbins):\n",
    "    plt.plot(vertprofiles[radi]['rbins'], vertprofiles[radi]['density'], label='{0:0.1f}'.format(radi+0.5))\n",
    "plt.yscale('log')\n",
    "plt.legend(title='R')"
   ]
  },
  {
   "cell_type": "markdown",
   "metadata": {},
   "source": [
    "Look at it! What happened to the vertical distribution? At what radii did something happen? At what radii did nothing happen?\n",
    "\n",
    "Let's find a couple of stars that have been raised up to 0.5 kpc at different radii and check out how they evolved, compared to one at a similar radius that stays in the disk plane."
   ]
  },
  {
   "cell_type": "code",
   "execution_count": null,
   "metadata": {},
   "outputs": [],
   "source": [
    "# First particle that ends up around z=0.5kpc and R=3kpc\n",
    "z1_search = 0.5*u.kpc\n",
    "R1_search = 3.0*u.kpc\n",
    "# And one at z=0.5kpc R=2kpc\n",
    "z2_search = 0.5*u.kpc\n",
    "R2_search = 2.0*u.kpc\n",
    "# And one near the plane at R=2kpc\n",
    "z3_search = 0.02*u.kpc\n",
    "R3_search = 2.0*u.kpc\n",
    "\n",
    "Rzdistsq_1 = np.sqrt((R_vert[:,-1]-R1_search.value)**2 + (z_vert[:,-1]-z1_search.value)**2)\n",
    "Rzdistsq_2 = np.sqrt((R_vert[:,-1]-R2_search.value)**2 + (z_vert[:,-1]-z2_search.value)**2)\n",
    "Rzdistsq_3 = np.sqrt((R_vert[:,-1]-R3_search.value)**2 + (z_vert[:,-1]-z3_search.value)**2)\n",
    "\n",
    "vertparti_1 = np.argsort(Rzdistsq_1)[0]\n",
    "vertparti_2 = np.argsort(Rzdistsq_2)[0]\n",
    "vertparti_3 = np.argsort(Rzdistsq_3)[0]"
   ]
  },
  {
   "cell_type": "code",
   "execution_count": null,
   "metadata": {},
   "outputs": [],
   "source": [
    "# Plot z vs. t, R vs. t, meridional plane for particle 1\n",
    "fig = plt.figure(figsize=(8,4))\n",
    "ax_zt = fig.add_subplot(131)\n",
    "ax_Rt = fig.add_subplot(132)\n",
    "ax_merid = fig.add_subplot(133)\n",
    "\n",
    "ax_zt.plot(ts.to(u.Myr), z_vert[vertparti_1,:], color='C0')\n",
    "ax_zt.set_xlabel('t (Myr)')\n",
    "ax_zt.set_ylabel('z (kpc)')\n",
    "\n",
    "ax_Rt.plot(ts.to(u.Myr), R_vert[vertparti_1,:], color='C0')\n",
    "ax_Rt.set_xlabel('t (Myr)')\n",
    "ax_Rt.set_ylabel('R (kpc)')\n",
    "\n",
    "ax_merid.plot(R_vert[vertparti_1,:], z_vert[vertparti_1,:], color='C0')\n",
    "ax_merid.set_xlabel('R (kpc)')\n",
    "ax_merid.set_ylabel('z (kpc)')\n",
    "\n",
    "plt.tight_layout()"
   ]
  },
  {
   "cell_type": "code",
   "execution_count": null,
   "metadata": {},
   "outputs": [],
   "source": [
    "# Plot z vs. t, R vs. t, meridional plane for particle 2\n",
    "fig = plt.figure(figsize=(8,4))\n",
    "ax_zt = fig.add_subplot(131)\n",
    "ax_Rt = fig.add_subplot(132)\n",
    "ax_merid = fig.add_subplot(133)\n",
    "\n",
    "ax_zt.plot(ts.to(u.Myr), z_vert[vertparti_2,:], color='C0')\n",
    "ax_zt.set_xlabel('t (Myr)')\n",
    "ax_zt.set_ylabel('z (kpc)')\n",
    "\n",
    "ax_Rt.plot(ts.to(u.Myr), R_vert[vertparti_2,:], color='C0')\n",
    "ax_Rt.set_xlabel('t (Myr)')\n",
    "ax_Rt.set_ylabel('R (kpc)')\n",
    "\n",
    "ax_merid.plot(R_vert[vertparti_2,:], z_vert[vertparti_2,:], color='C0')\n",
    "ax_merid.set_xlabel('R (kpc)')\n",
    "ax_merid.set_ylabel('z (kpc)')\n",
    "\n",
    "plt.tight_layout()"
   ]
  },
  {
   "cell_type": "code",
   "execution_count": null,
   "metadata": {},
   "outputs": [],
   "source": [
    "# Plot z vs. t, R vs. t, meridional plane for particle 3\n",
    "fig = plt.figure(figsize=(8,4))\n",
    "ax_zt = fig.add_subplot(131)\n",
    "ax_Rt = fig.add_subplot(132)\n",
    "ax_merid = fig.add_subplot(133)\n",
    "\n",
    "ax_zt.plot(ts.to(u.Myr), z_vert[vertparti_3,:], color='C0')\n",
    "ax_zt.set_xlabel('t (Myr)')\n",
    "ax_zt.set_ylabel('z (kpc)')\n",
    "\n",
    "ax_Rt.plot(ts.to(u.Myr), R_vert[vertparti_3,:], color='C0')\n",
    "ax_Rt.set_xlabel('t (Myr)')\n",
    "ax_Rt.set_ylabel('R (kpc)')\n",
    "\n",
    "ax_merid.plot(R_vert[vertparti_3,:], z_vert[vertparti_3,:], color='C0')\n",
    "ax_merid.set_xlabel('R (kpc)')\n",
    "ax_merid.set_ylabel('z (kpc)')\n",
    "\n",
    "plt.tight_layout()"
   ]
  },
  {
   "cell_type": "markdown",
   "metadata": {},
   "source": [
    "Look at these. What happened to the particles that ended up at large heights? Think about the implications for how you interpret all of the rest of the orbital integration results."
   ]
  },
  {
   "cell_type": "markdown",
   "metadata": {},
   "source": [
    "## 12. Do something interesting\n",
    "\n",
    "**FIXME:** Try modifying something else or exploring this in some other way. For example change the bar parameters (strength, pattern speed, length), try a background potential that has multiple ILRs or OLRs, find particles near the Lagrange points and see how they move in the rotating frame, or something else!"
   ]
  },
  {
   "cell_type": "code",
   "execution_count": null,
   "metadata": {},
   "outputs": [],
   "source": []
  }
 ],
 "metadata": {
  "kernelspec": {
   "display_name": "Python 3 (ipykernel)",
   "language": "python",
   "name": "python3"
  },
  "language_info": {
   "codemirror_mode": {
    "name": "ipython",
    "version": 3
   },
   "file_extension": ".py",
   "mimetype": "text/x-python",
   "name": "python",
   "nbconvert_exporter": "python",
   "pygments_lexer": "ipython3",
   "version": "3.10.9"
  }
 },
 "nbformat": 4,
 "nbformat_minor": 2
}
